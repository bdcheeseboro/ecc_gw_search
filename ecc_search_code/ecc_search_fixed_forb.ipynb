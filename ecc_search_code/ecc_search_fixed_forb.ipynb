{
 "cells": [
  {
   "cell_type": "markdown",
   "metadata": {},
   "source": [
    "## Eccentric GW Search"
   ]
  },
  {
   "cell_type": "markdown",
   "metadata": {},
   "source": [
    "This notebook runs a targeted eccentric GW search. Based on work done by Sarah Vigeland, Ph.D. from `cw_search_sample.ipynb`\n",
    "\n",
    "Updated: 12/17/2021"
   ]
  },
  {
   "cell_type": "code",
   "execution_count": 1,
   "metadata": {},
   "outputs": [
    {
     "name": "stdout",
     "output_type": "stream",
     "text": [
      "Cannot import PINT? Meh...\n"
     ]
    }
   ],
   "source": [
    "from __future__ import division\n",
    "import numpy as np\n",
    "import glob\n",
    "import os\n",
    "import pickle\n",
    "import json\n",
    "import matplotlib.pyplot as plt\n",
    "import corner\n",
    "import sys\n",
    "\n",
    "from enterprise.signals import parameter\n",
    "from enterprise.pulsar import Pulsar\n",
    "from enterprise.signals import selections\n",
    "from enterprise.signals import signal_base\n",
    "from enterprise.signals import white_signals\n",
    "from enterprise.signals import gp_signals\n",
    "from enterprise.signals import deterministic_signals\n",
    "import enterprise.constants as const\n",
    "from enterprise.signals import utils\n",
    "from enterprise_extensions.deterministic import CWSignal\n",
    "from enterprise_extensions.blocks import (white_noise_block, red_noise_block, common_red_noise_block)\n",
    "from enterprise.signals.signal_base import SignalCollection\n",
    "from PTMCMCSampler.PTMCMCSampler import PTSampler as ptmcmc\n",
    "from enterprise_extensions.sampler import JumpProposal as JP\n",
    "from enterprise_extensions.sampler import group_from_params\n",
    "import ecc_res\n",
    "import scipy.constants as sc\n",
    "\n",
    "%load_ext autoreload\n",
    "%autoreload 2"
   ]
  },
  {
   "cell_type": "markdown",
   "metadata": {},
   "source": [
    "All the noise files must be loaded in using the following function `get_noise_from_pal2` because these noise files are all text files. If using other file types then this is function is not necessary."
   ]
  },
  {
   "cell_type": "code",
   "execution_count": 2,
   "metadata": {},
   "outputs": [],
   "source": [
    "def get_noise_from_pal2(noisefile):\n",
    "    psrname = noisefile.split('/')[-1].split('_noise.txt')[0]\n",
    "    fin = open(noisefile, 'r')\n",
    "    lines = fin.readlines()\n",
    "    params = {}\n",
    "    for line in lines:\n",
    "        ln = line.split()\n",
    "        if 'efac' in line:\n",
    "            par = 'efac'\n",
    "            flag = ln[0].split('efac-')[-1]\n",
    "        elif 'equad' in line:\n",
    "            par = 'log10_equad'\n",
    "            flag = ln[0].split('equad-')[-1]\n",
    "        elif 'jitter_q' in line:\n",
    "            par = 'log10_ecorr'\n",
    "            flag = ln[0].split('jitter_q-')[-1]\n",
    "        elif 'RN-Amplitude' in line:\n",
    "            par = 'red_noise_log10_A'\n",
    "            flag = ''\n",
    "        elif 'RN-spectral-index' in line:\n",
    "            par = 'red_noise_gamma'\n",
    "            flag = ''\n",
    "        else:\n",
    "            break\n",
    "        if flag:\n",
    "            name = [psrname, flag, par]\n",
    "        else:\n",
    "            name = [psrname, par]\n",
    "        pname = '_'.join(name)\n",
    "        params.update({pname: float(ln[1])})\n",
    "    return params"
   ]
  },
  {
   "cell_type": "code",
   "execution_count": null,
   "metadata": {},
   "outputs": [],
   "source": [
    "def get_ew_groups(pta):\n",
    "    \"\"\"Utility function to get parameter groups for CW sampling.\n",
    "    These groups should be appended to the usual get_parameter_groups()\n",
    "    output.\n",
    "    \"\"\"\n",
    "    params = pta.param_names\n",
    "    ndim = len(params)\n",
    "    groups = [list(np.arange(0, ndim))]\n",
    "    \n",
    "    snames = np.unique([[qq.signal_name for qq in pp._signals] \n",
    "                        for pp in pta._signalcollections])\n",
    "    \n",
    "    # sort parameters by signal collections\n",
    "    ephempars = []\n",
    "\n",
    "    for sc in pta._signalcollections:\n",
    "        for signal in sc._signals:\n",
    "            if signal.signal_name == 'phys_ephem':\n",
    "                ephempars.extend(signal.param_names)\n",
    "\n",
    "    #separate pdist and pphase params\n",
    "    pdist_params = [ p for p in params if 'p_dist' in p ]\n",
    "    pphase_params = [ p for p in params if 'pphase' in p ]\n",
    "    gammap_params = [ p for p in params if 'gamma_P' in p ]\n",
    "    groups.extend([[params.index(pd) for pd in pdist_params]])\n",
    "    groups.extend([[params.index(pp) for pp in pphase_params]])\n",
    "    groups.extend([[params.index(gp) for gp in gammap_params]])\n",
    "    \n",
    "    if 'red_noise' in params:\n",
    "\n",
    "        # create parameter groups for the red noise parameters\n",
    "        rnpsrs = [ p.split('_')[0] for p in params if '_log10_A' in p and 'gwb' not in p]\n",
    "        b = [params.index(p) for p in params if 'alpha' in p]\n",
    "        for psr in rnpsrs:\n",
    "            groups.extend([[params.index(psr + '_red_noise_gamma'), params.index(psr + '_red_noise_log10_A')]])\n",
    "\n",
    "        b = [params.index(p) for p in params if 'alpha' in p]\n",
    "        groups.extend([b])\n",
    "\n",
    "        for alpha in b:\n",
    "            groups.extend([[alpha, params.index('J0613-0200_red_noise_gamma'), params.index('J0613-0200_red_noise_log10_A')]])\n",
    "\n",
    "\n",
    "        for i in np.arange(0,len(b),2):\n",
    "            groups.append([b[i],b[i+1]])\n",
    "\n",
    "\n",
    "        groups.extend([[params.index(p) for p in rnpars]])\n",
    "\n",
    "    if 'e0' in pta.params:\n",
    "        gpars = ['log10_Mc', 'e0', 'q', 'gamma0', 'l0', 'psi'] #global params\n",
    "        groups.append([params.index(gp) for gp in gpars]) #add global params\n",
    "\n",
    "        #pair global params\n",
    "        groups.extend([[params.index('log10_Mc'), params.index('q')]])\n",
    "        groups.extend([[params.index('log10_Mc'), params.index('e0')]])\n",
    "        groups.extend([[params.index('gamma0'), params.index('l0')]])\n",
    "        groups.extend([[params.index('gamma0'), params.index('psi')]])\n",
    "        groups.extend([[params.index('psi'), params.index('l0')]])\n",
    "        \n",
    "\n",
    "        for pd, pp, gp in zip(pdist_params, pphase_params, gammap_params):\n",
    "            groups.extend([[params.index(pd), params.index(pp), params.index(gp)]])\n",
    "            groups.extend([[params.index(pd), params.index(pp), params.index(gp), params.index('log10_Mc')]])\n",
    "            groups.extend([[params.index(pd), params.index(pp), params.index(gp), params.index('log10_Mc'), params.index('e0'), params.index('q')]])\n",
    "    \n",
    "    \n",
    "    #parameters to catch and match gwb signals - if set to constant or not included, will skip\n",
    "    if 'gwb_gamma' in pta.params:\n",
    "        crn_pars = ['gwb_gamma', 'gwb_log10_A']\n",
    "        bpl_pars = ['gwb_gamma', 'gwb_log10_A', 'gwb_log10_fbend']\n",
    "\n",
    "        groups1 = []\n",
    "\n",
    "        for pars in [crn_pars, bpl_pars]:\n",
    "            if any(item in params for item in pars):\n",
    "                groups1.append(group_from_params(pta, pars))\n",
    "\n",
    "        groups.extend(groups1)\n",
    "\n",
    "    # set up groups for the BayesEphem parameters\n",
    "    if 'phys_ephem' in snames:\n",
    "        \n",
    "        ephempars = np.unique(ephempars)\n",
    "        juporb = [p for p in ephempars if 'jup_orb' in p]\n",
    "        groups.extend([[params.index(p) for p in ephempars if p not in juporb]])\n",
    "        groups.extend([[params.index(jp) for jp in juporb]])\n",
    "        for i1 in range(len(juporb)):\n",
    "            for i2 in range(i1+1, len(juporb)):\n",
    "                groups.extend([[params.index(p) for p in [juporb[i1], juporb[i2]]]])\n",
    "\n",
    "    return groups"
   ]
  },
  {
   "cell_type": "code",
   "execution_count": 3,
   "metadata": {},
   "outputs": [],
   "source": [
    "#dataset directory path\n",
    "datadir = '/home/bcheeseboro/nanograv_proj/enterprise_proj/eccentric_residual/ecc_sim_data/testing_round'\n",
    "noisepath = '/home/bcheeseboro/nanograv_proj/enterprise_proj/'"
   ]
  },
  {
   "cell_type": "code",
   "execution_count": 4,
   "metadata": {},
   "outputs": [],
   "source": [
    "#load par and tim files for each of the pulsars\n",
    "parfiles = sorted(glob.glob(datadir+'/*.par'))\n",
    "timfiles = sorted(glob.glob(datadir+'/*.tim'))"
   ]
  },
  {
   "cell_type": "code",
   "execution_count": 5,
   "metadata": {},
   "outputs": [],
   "source": [
    "#Create the pulsar list\n",
    "psr_list = [x.split('/')[-1].split('_')[0] for x in parfiles]"
   ]
  },
  {
   "cell_type": "code",
   "execution_count": 6,
   "metadata": {},
   "outputs": [
    {
     "name": "stdout",
     "output_type": "stream",
     "text": [
      "Loading pulsar from parfile /home/bcheeseboro/nanograv_proj/enterprise_proj/eccentric_residual/ecc_sim_data/testing_round/B1855+09_simulate.par\n",
      "Loading pulsar from parfile /home/bcheeseboro/nanograv_proj/enterprise_proj/eccentric_residual/ecc_sim_data/testing_round/B1937+21_simulate.par\n",
      "Loading pulsar from parfile /home/bcheeseboro/nanograv_proj/enterprise_proj/eccentric_residual/ecc_sim_data/testing_round/B1953+29_simulate.par\n",
      "Loading pulsar from parfile /home/bcheeseboro/nanograv_proj/enterprise_proj/eccentric_residual/ecc_sim_data/testing_round/J0023+0923_simulate.par\n"
     ]
    },
    {
     "name": "stderr",
     "output_type": "stream",
     "text": [
      "WARNING: enterprise.pulsar: WARNING: Could not find pulsar distance for PSR J0023+0923. Setting value to 1 with 20% uncertainty.\n"
     ]
    },
    {
     "name": "stdout",
     "output_type": "stream",
     "text": [
      "Loading pulsar from parfile /home/bcheeseboro/nanograv_proj/enterprise_proj/eccentric_residual/ecc_sim_data/testing_round/J0030+0451_simulate.par\n",
      "Loading pulsar from parfile /home/bcheeseboro/nanograv_proj/enterprise_proj/eccentric_residual/ecc_sim_data/testing_round/J0340+4130_simulate.par\n"
     ]
    },
    {
     "name": "stderr",
     "output_type": "stream",
     "text": [
      "WARNING: enterprise.pulsar: WARNING: Could not find pulsar distance for PSR J0340+4130. Setting value to 1 with 20% uncertainty.\n"
     ]
    },
    {
     "name": "stdout",
     "output_type": "stream",
     "text": [
      "Loading pulsar from parfile /home/bcheeseboro/nanograv_proj/enterprise_proj/eccentric_residual/ecc_sim_data/testing_round/J0613-0200_simulate.par\n",
      "Loading pulsar from parfile /home/bcheeseboro/nanograv_proj/enterprise_proj/eccentric_residual/ecc_sim_data/testing_round/J0636+5128_simulate.par\n"
     ]
    },
    {
     "name": "stderr",
     "output_type": "stream",
     "text": [
      "WARNING: enterprise.pulsar: WARNING: Could not find pulsar distance for PSR J0636+5128. Setting value to 1 with 20% uncertainty.\n"
     ]
    },
    {
     "name": "stdout",
     "output_type": "stream",
     "text": [
      "Loading pulsar from parfile /home/bcheeseboro/nanograv_proj/enterprise_proj/eccentric_residual/ecc_sim_data/testing_round/J0645+5158_simulate.par\n"
     ]
    },
    {
     "name": "stderr",
     "output_type": "stream",
     "text": [
      "WARNING: enterprise.pulsar: WARNING: Could not find pulsar distance for PSR J0645+5158. Setting value to 1 with 20% uncertainty.\n"
     ]
    },
    {
     "name": "stdout",
     "output_type": "stream",
     "text": [
      "Loading pulsar from parfile /home/bcheeseboro/nanograv_proj/enterprise_proj/eccentric_residual/ecc_sim_data/testing_round/J0740+6620_simulate.par\n"
     ]
    },
    {
     "name": "stderr",
     "output_type": "stream",
     "text": [
      "WARNING: enterprise.pulsar: WARNING: Could not find pulsar distance for PSR J0740+6620. Setting value to 1 with 20% uncertainty.\n"
     ]
    }
   ],
   "source": [
    "#if there's a pickle file then use that\n",
    "pkl_name = 'ideal_pulsars_ecc_search.pkl'\n",
    "filename = datadir + pkl_name\n",
    "if os.path.exists(filename):\n",
    "    with open(filename, \"rb\") as f:\n",
    "        psrs = pickle.load(f)\n",
    "#else load the par and tim files in and make a pickle file for the future\n",
    "else:\n",
    "    psrs = []\n",
    "    #load par, tim, and noise files for each of the pulsars\n",
    "    parfiles = sorted(glob.glob(datadir+'/*.par'))\n",
    "    timfiles = sorted(glob.glob(datadir+'/*.tim'))\n",
    "    for p, t in zip(parfiles, timfiles):\n",
    "        print('Loading pulsar from parfile {0}'.format(p))\n",
    "        psrs.append(Pulsar(p, t))\n",
    "    pickle.dump(psrs, open(filename,'wb'))"
   ]
  },
  {
   "cell_type": "code",
   "execution_count": null,
   "metadata": {},
   "outputs": [],
   "source": [
    "#get noise params\n",
    "nf_name = 'channelized_12p5yr_v3_full_noisedict.json'\n",
    "with open(noisepath+nf_name) as nf:\n",
    "    noise_params = json.load(nf)"
   ]
  },
  {
   "cell_type": "code",
   "execution_count": 7,
   "metadata": {},
   "outputs": [],
   "source": [
    "## white noise parameters\n",
    "# set them to constant here and we will input the noise values after the model is initialized\n",
    "efac = parameter.Constant()\n",
    "equad = parameter.Constant()\n",
    "ecorr = parameter.Constant()\n",
    "\n",
    "# define selection by observing backend\n",
    "selection = selections.Selection(selections.by_backend)\n",
    "\n",
    "# define white noise signals\n",
    "ef = white_signals.MeasurementNoise(efac=efac, selection=selection)\n",
    "eq = white_signals.EquadNoise(log10_equad=equad, selection=selection)\n",
    "ec = gp_signals.EcorrBasisModel(log10_ecorr=ecorr, selection=selection, name='')"
   ]
  },
  {
   "cell_type": "code",
   "execution_count": null,
   "metadata": {},
   "outputs": [],
   "source": [
    "#Set Tspan\n",
    "tmin = [p.toas.min() for p in psrs_fix]\n",
    "tmax = [p.toas.max() for p in psrs_fix]\n",
    "Tspan = max(tmax) - min(tmin)\n",
    "\n",
    "# red noise\n",
    "rn = red_noise_block(prior='log-uniform')\n",
    "\n",
    "#red noise empirical distribution\n",
    "empirical_distr = datadir + args.rn_pkl\n",
    "\n",
    "bayesephem = False #turn bayesephem on or off\n",
    "crn_type = 'fixed' #determines a fixed, varied, or varied + bayesephem common red noise process model\n",
    "\n",
    "if crn_type == 'fixed':\n",
    "    if bayesephem:\n",
    "        log10_Agw = parameter.Constant(-16.496)('gwb_log10_A')\n",
    "        gamma_gw = parameter.Constant(5.84)('gwb_gamma')\n",
    "    else:\n",
    "        log10_Agw = parameter.Constant(-15.696)('gwb_log10_A')\n",
    "        gamma_gw = parameter.Constant(6.23)('gwb_gamma')\n",
    "    cpl = utils.powerlaw(log10_A=log10_Agw, gamma=gamma_gw)\n",
    "    crn = gp_signals.FourierBasisGP(cpl, components=5, Tspan=Tspan,\n",
    "                                            name='gw')\n",
    "else:\n",
    "    crn = common_red_noise_block(prior='log-uniform', name='gwb', components=5)"
   ]
  },
  {
   "cell_type": "code",
   "execution_count": 9,
   "metadata": {},
   "outputs": [],
   "source": [
    "#Eccentric gw parameters\n",
    "#gw parameters\n",
    "gwphi = parameter.Constant(args.gwphi)('gwphi') #RA of source\n",
    "gwtheta = parameter.Constant(args.gwtheta)('gwtheta') #DEC of source\n",
    "log10_dist = parameter.Constant(args.gwdist)('log10_dist') #distance to source\n",
    "\n",
    "#constant parameters\n",
    "log10_forb = parameter.Constant(args.f_orb)('log10_forb') #log10 orbital frequency\n",
    "inc = parameter.Constant(args.inc)('inc') #inclination of the binary's orbital plane\n",
    "tref = max(tmax)/86400\n",
    "\n",
    "#Search parameters\n",
    "q = parameter.Uniform(0.1,1)('q') #mass ratio\n",
    "log10_mc = parameter.Uniform(7,11)('log10_Mc') #log10 chirp mass\n",
    "e0 = parameter.Uniform(0.001, 0.99)('e0') #eccentricity\n",
    "p_dist = parameter.Normal(0,1) #prior on pulsar distance\n",
    "pphase = parameter.Uniform(0,2*np.pi) #prior on pulsar phase\n",
    "gamma_P = parameter.Uniform(0,2*np.pi) #prior on pulsar gamma\n",
    "l0 = parameter.Uniform(0,2*np.pi)('l0') #mean anomaly\n",
    "gamma0 = parameter.Uniform(0,2*np.pi)('gamma0') #initial angle of periastron\n",
    "psi = parameter.Uniform(0,2*np.pi)('psi') #polarization of the GW"
   ]
  },
  {
   "cell_type": "code",
   "execution_count": 10,
   "metadata": {},
   "outputs": [],
   "source": [
    "#Eccentric signal construction\n",
    "#To create a signal to be used by enterprise you must first create a residual \n",
    "#and use CWSignal to convert the residual as part of the enterprise Signal class\n",
    "ewf = ecc_res.add_ecc_cgw(gwtheta=gwtheta, gwphi=gwphi, log10_mc=log10_mc, q=q, log10_forb=log10_forb, e0=e0, l0=l0, gamma0=gamma0, \n",
    "                    inc=inc, psi=psi, log10_dist=log10_dist, p_dist=p_dist, pphase=pphase, gamma_P=gamma_P, tref=tref, \n",
    "                    psrterm=True, evol=True, waveform_cal=True, res='Both')\n",
    "ew = CWSignal(ewf, ecc=False, psrTerm=False) #ecc and psrTerm are set to False to prevent excess parameters \n",
    "                                             #that are not used by ecc_res being introduced in the search."
   ]
  },
  {
   "cell_type": "code",
   "execution_count": 11,
   "metadata": {},
   "outputs": [],
   "source": [
    "# linearized timing model\n",
    "tm = gp_signals.TimingModel(use_svd=False)\n",
    "\n",
    "#create signal collection\n",
    "s = ef + tm + ew + rn + eq + ec + crn"
   ]
  },
  {
   "cell_type": "code",
   "execution_count": null,
   "metadata": {},
   "outputs": [],
   "source": [
    "#if bayesephem is turned on then add to the signl collection\n",
    "if bayesephem:\n",
    "    s += deterministic_signals.PhysicalEphemerisSignal(use_epoch_toas=True)"
   ]
  },
  {
   "cell_type": "code",
   "execution_count": 13,
   "metadata": {
    "collapsed": true,
    "jupyter": {
     "outputs_hidden": true
    }
   },
   "outputs": [
    {
     "data": {
      "text/plain": [
       "{'B1855+09_430_PUPPI_efac': 1.11896,\n",
       " 'B1855+09_L-wide_PUPPI_efac': 1.38104,\n",
       " 'B1855+09_430_ASP_efac': 1.16587,\n",
       " 'B1855+09_L-wide_ASP_efac': 1.08538,\n",
       " 'B1855+09_430_ASP_log10_ecorr': -8.47348,\n",
       " 'B1855+09_430_PUPPI_log10_ecorr': -6.31096,\n",
       " 'B1855+09_L-wide_ASP_log10_ecorr': -6.09208,\n",
       " 'B1855+09_L-wide_PUPPI_log10_ecorr': -6.401,\n",
       " 'B1855+09_430_PUPPI_log10_equad': -6.17415,\n",
       " 'B1855+09_L-wide_PUPPI_log10_equad': -6.53715,\n",
       " 'B1855+09_430_ASP_log10_equad': -7.93502,\n",
       " 'B1855+09_L-wide_ASP_log10_equad': -6.51038,\n",
       " 'B1855+09_red_noise_log10_A': -13.8022,\n",
       " 'B1855+09_red_noise_gamma': 3.63368,\n",
       " 'B1937+21_S-wide_ASP_efac': 1.38306,\n",
       " 'B1937+21_L-wide_PUPPI_efac': 2.51222,\n",
       " 'B1937+21_L-wide_ASP_efac': 2.08151,\n",
       " 'B1937+21_Rcvr_800_GUPPI_efac': 4.56347,\n",
       " 'B1937+21_S-wide_PUPPI_efac': 4.42791,\n",
       " 'B1937+21_Rcvr1_2_GASP_efac': 1.2136,\n",
       " 'B1937+21_Rcvr_800_GASP_efac': 2.28379,\n",
       " 'B1937+21_Rcvr1_2_GUPPI_efac': 1.51615,\n",
       " 'B1937+21_L-wide_ASP_log10_ecorr': -6.73728,\n",
       " 'B1937+21_L-wide_PUPPI_log10_ecorr': -6.89479,\n",
       " 'B1937+21_Rcvr1_2_GASP_log10_ecorr': -7.01235,\n",
       " 'B1937+21_Rcvr1_2_GUPPI_log10_ecorr': -6.65414,\n",
       " 'B1937+21_Rcvr_800_GASP_log10_ecorr': -8.14156,\n",
       " 'B1937+21_Rcvr_800_GUPPI_log10_ecorr': -6.46527,\n",
       " 'B1937+21_S-wide_ASP_log10_ecorr': -6.59546,\n",
       " 'B1937+21_S-wide_PUPPI_log10_ecorr': -6.38911,\n",
       " 'B1937+21_S-wide_ASP_log10_equad': -6.64122,\n",
       " 'B1937+21_L-wide_PUPPI_log10_equad': -7.19534,\n",
       " 'B1937+21_L-wide_ASP_log10_equad': -6.78669,\n",
       " 'B1937+21_Rcvr_800_GUPPI_log10_equad': -6.63217,\n",
       " 'B1937+21_S-wide_PUPPI_log10_equad': -7.13645,\n",
       " 'B1937+21_Rcvr1_2_GASP_log10_equad': -7.10271,\n",
       " 'B1937+21_Rcvr_800_GASP_log10_equad': -6.68081,\n",
       " 'B1937+21_Rcvr1_2_GUPPI_log10_equad': -7.08589,\n",
       " 'B1937+21_red_noise_log10_A': -13.2382,\n",
       " 'B1937+21_red_noise_gamma': 2.42323,\n",
       " 'B1953+29_430_PUPPI_efac': 1.28938,\n",
       " 'B1953+29_430_ASP_efac': 1.03677,\n",
       " 'B1953+29_L-wide_PUPPI_efac': 1.1142,\n",
       " 'B1953+29_L-wide_ASP_efac': 1.35393,\n",
       " 'B1953+29_430_ASP_log10_ecorr': -4.76834,\n",
       " 'B1953+29_430_PUPPI_log10_ecorr': -4.99991,\n",
       " 'B1953+29_L-wide_ASP_log10_ecorr': -8.25831,\n",
       " 'B1953+29_L-wide_PUPPI_log10_ecorr': -7.78528,\n",
       " 'B1953+29_430_PUPPI_log10_equad': -5.89578,\n",
       " 'B1953+29_430_ASP_log10_equad': -5.7992,\n",
       " 'B1953+29_L-wide_PUPPI_log10_equad': -9.78624,\n",
       " 'B1953+29_L-wide_ASP_log10_equad': -7.94978,\n",
       " 'B1953+29_red_noise_log10_A': -19.5541,\n",
       " 'B1953+29_red_noise_gamma': 1.60064,\n",
       " 'J0023+0923_L-wide_PUPPI_efac': 1.16077,\n",
       " 'J0023+0923_L-wide_ASP_efac': 1.1688,\n",
       " 'J0023+0923_430_PUPPI_efac': 1.03915,\n",
       " 'J0023+0923_430_ASP_efac': 1.01804,\n",
       " 'J0023+0923_430_ASP_log10_ecorr': -6.72922,\n",
       " 'J0023+0923_430_PUPPI_log10_ecorr': -6.91778,\n",
       " 'J0023+0923_L-wide_ASP_log10_ecorr': -6.15634,\n",
       " 'J0023+0923_L-wide_PUPPI_log10_ecorr': -8.12444,\n",
       " 'J0023+0923_L-wide_PUPPI_log10_equad': -6.7117,\n",
       " 'J0023+0923_L-wide_ASP_log10_equad': -6.2592,\n",
       " 'J0023+0923_430_PUPPI_log10_equad': -6.90765,\n",
       " 'J0023+0923_430_ASP_log10_equad': -7.51103,\n",
       " 'J0023+0923_red_noise_log10_A': -13.2745,\n",
       " 'J0023+0923_red_noise_gamma': 0.0896233,\n",
       " 'J0030+0451_430_PUPPI_efac': 1.10265,\n",
       " 'J0030+0451_430_ASP_efac': 1.17865,\n",
       " 'J0030+0451_L-wide_PUPPI_efac': 1.11973,\n",
       " 'J0030+0451_L-wide_ASP_efac': 1.15368,\n",
       " 'J0030+0451_430_ASP_log10_ecorr': -8.08783,\n",
       " 'J0030+0451_430_PUPPI_log10_ecorr': -6.66579,\n",
       " 'J0030+0451_L-wide_ASP_log10_ecorr': -8.01369,\n",
       " 'J0030+0451_L-wide_PUPPI_log10_ecorr': -7.41273,\n",
       " 'J0030+0451_430_PUPPI_log10_equad': -6.47717,\n",
       " 'J0030+0451_430_ASP_log10_equad': -6.97404,\n",
       " 'J0030+0451_L-wide_PUPPI_log10_equad': -8.19585,\n",
       " 'J0030+0451_L-wide_ASP_log10_equad': -8.19036,\n",
       " 'J0030+0451_red_noise_log10_A': -13.9934,\n",
       " 'J0030+0451_red_noise_gamma': 3.88428,\n",
       " 'J0340+4130_Rcvr1_2_GUPPI_efac': 1.07493,\n",
       " 'J0340+4130_Rcvr_800_GUPPI_efac': 1.10487,\n",
       " 'J0340+4130_Rcvr1_2_GUPPI_log10_ecorr': -8.37248,\n",
       " 'J0340+4130_Rcvr_800_GUPPI_log10_ecorr': -7.31613,\n",
       " 'J0340+4130_Rcvr1_2_GUPPI_log10_equad': -9.9488,\n",
       " 'J0340+4130_Rcvr_800_GUPPI_log10_equad': -8.88195,\n",
       " 'J0340+4130_red_noise_log10_A': -16.613,\n",
       " 'J0340+4130_red_noise_gamma': 2.13266,\n",
       " 'J0613-0200_Rcvr1_2_GUPPI_efac': 1.07904,\n",
       " 'J0613-0200_Rcvr1_2_GASP_efac': 1.05557,\n",
       " 'J0613-0200_Rcvr_800_GASP_efac': 1.09774,\n",
       " 'J0613-0200_Rcvr_800_GUPPI_efac': 1.16631,\n",
       " 'J0613-0200_Rcvr1_2_GASP_log10_ecorr': -7.51086,\n",
       " 'J0613-0200_Rcvr1_2_GUPPI_log10_ecorr': -6.78343,\n",
       " 'J0613-0200_Rcvr_800_GASP_log10_ecorr': -8.01835,\n",
       " 'J0613-0200_Rcvr_800_GUPPI_log10_ecorr': -6.73192,\n",
       " 'J0613-0200_Rcvr1_2_GUPPI_log10_equad': -8.58687,\n",
       " 'J0613-0200_Rcvr1_2_GASP_log10_equad': -8.39827,\n",
       " 'J0613-0200_Rcvr_800_GASP_log10_equad': -9.1479,\n",
       " 'J0613-0200_Rcvr_800_GUPPI_log10_equad': -6.67602,\n",
       " 'J0613-0200_red_noise_log10_A': -13.1482,\n",
       " 'J0613-0200_red_noise_gamma': 1.14699,\n",
       " 'J0636+5128_Rcvr1_2_GUPPI_efac': 1.08207,\n",
       " 'J0636+5128_Rcvr_800_GUPPI_efac': 1.02616,\n",
       " 'J0636+5128_Rcvr1_2_GUPPI_log10_ecorr': -7.93917,\n",
       " 'J0636+5128_Rcvr_800_GUPPI_log10_ecorr': -6.79308,\n",
       " 'J0636+5128_Rcvr1_2_GUPPI_log10_equad': -9.54351,\n",
       " 'J0636+5128_Rcvr_800_GUPPI_log10_equad': -6.37227,\n",
       " 'J0636+5128_red_noise_log10_A': -12.5197,\n",
       " 'J0636+5128_red_noise_gamma': 3.13677,\n",
       " 'J0645+5158_Rcvr1_2_GUPPI_efac': 1.07607,\n",
       " 'J0645+5158_Rcvr_800_GUPPI_efac': 1.0104,\n",
       " 'J0645+5158_Rcvr1_2_GUPPI_log10_ecorr': -7.95971,\n",
       " 'J0645+5158_Rcvr_800_GUPPI_log10_ecorr': -7.11304,\n",
       " 'J0645+5158_Rcvr1_2_GUPPI_log10_equad': -9.96514,\n",
       " 'J0645+5158_Rcvr_800_GUPPI_log10_equad': -7.07038,\n",
       " 'J0645+5158_red_noise_log10_A': -19.8803,\n",
       " 'J0645+5158_red_noise_gamma': 0.73559,\n",
       " 'J0740+6620_Rcvr1_2_GUPPI_efac': 1.1001,\n",
       " 'J0740+6620_Rcvr_800_GUPPI_efac': 1.05578,\n",
       " 'J0740+6620_Rcvr1_2_GUPPI_log10_ecorr': -6.65567,\n",
       " 'J0740+6620_Rcvr_800_GUPPI_log10_ecorr': -5.997,\n",
       " 'J0740+6620_Rcvr1_2_GUPPI_log10_equad': -9.15277,\n",
       " 'J0740+6620_Rcvr_800_GUPPI_log10_equad': -9.12649,\n",
       " 'J0740+6620_red_noise_log10_A': -14.0743,\n",
       " 'J0740+6620_red_noise_gamma': 2.47431}"
      ]
     },
     "execution_count": 13,
     "metadata": {},
     "output_type": "execute_result"
    }
   ],
   "source": [
    "# initialize PTA\n",
    "model = [s(psr) for psr in psrs_fix]\n",
    "pta = signal_base.PTA(model)\n",
    "\n",
    "pta.set_default_params(noise_dict)"
   ]
  },
  {
   "cell_type": "code",
   "execution_count": 15,
   "metadata": {},
   "outputs": [
    {
     "name": "stdout",
     "output_type": "stream",
     "text": [
      "[-1.0193696   2.65793668  1.77826861  4.25716882  0.44949878  4.81102683\n",
      "  0.01083655  1.53016362  0.53220353  2.35841754 -0.69539408  5.71797668\n",
      "  1.8815636   0.32469714  0.91462761  0.07929691 -1.22592147  3.56225791\n",
      "  0.56030864  4.47163898  0.21106195  9.74444593  0.26592872]\n"
     ]
    }
   ],
   "source": [
    "#Select sample from the search parameters\n",
    "xecc = np.hstack(np.array([p.sample() for p in pta.params]))\n",
    "ndim = len(xecc)"
   ]
  },
  {
   "cell_type": "code",
   "execution_count": 16,
   "metadata": {},
   "outputs": [
    {
     "data": {
      "text/plain": [
       "-8119296.057545082"
      ]
     },
     "execution_count": 16,
     "metadata": {},
     "output_type": "execute_result"
    }
   ],
   "source": [
    "#testing to see if we get a likelihood value\n",
    "pta.get_lnlikelihood(xecc)"
   ]
  },
  {
   "cell_type": "code",
   "execution_count": 17,
   "metadata": {},
   "outputs": [],
   "source": [
    "# initialize pulsar distance parameters\n",
    "p_dist_params = [ p for p in pta.param_names if 'p_dist' in p ]\n",
    "for pd in p_dist_params:\n",
    "    xecc[pta.param_names.index(pd)] = 0"
   ]
  },
  {
   "cell_type": "code",
   "execution_count": 18,
   "metadata": {},
   "outputs": [],
   "source": [
    "# initial jump covariance matrix\n",
    "cov = np.diag(np.ones(ndim) * 0.01**2)"
   ]
  },
  {
   "cell_type": "code",
   "execution_count": 20,
   "metadata": {},
   "outputs": [],
   "source": [
    "groups = get_ew_groups(pta)"
   ]
  },
  {
   "cell_type": "code",
   "execution_count": 23,
   "metadata": {},
   "outputs": [],
   "source": [
    "chaindir = '/home/bcheeseboro/nanograv_proj/enterprise_proj/pta_tutorial/ecc_chains/test/run3/'\n",
    "resume = True #If True, this allows the sampler to resume from the last walker location.\n",
    "sampler = ptmcmc(ndim, pta.get_lnlikelihood, pta.get_lnprior, cov, groups=groups,\n",
    "                 outDir=chaindir, resume=resume)\n",
    "\n",
    "# write parameter file and parameter groups file\n",
    "np.savetxt(chaindir + 'params.txt', list(map(str, pta.param_names)), fmt='%s')\n",
    "np.savetxt(chaindir + 'groups.txt', groups, fmt='%s')"
   ]
  },
  {
   "cell_type": "code",
   "execution_count": 24,
   "metadata": {},
   "outputs": [],
   "source": [
    "# add prior draws to proposal cycle\n",
    "jp = JP(pta, empirical_distr=empirical_distr)\n",
    "sampler.addProposalToCycle(jp.draw_from_prior, 5)\n",
    "\n",
    "#draw from pdist priors\n",
    "pdist_params = [psr.name+'_cw_p_dist' for psr in psrs_fix]\n",
    "for pd in pdist_params:\n",
    "    sampler.addProposalToCycle(jp.draw_from_par_prior(pd),5)\n",
    "\n",
    "#draw from phase priors\n",
    "pphase_params = [psr.name+'_cw_pphase' for psr in psrs_fix]\n",
    "for pp in pphase_params:\n",
    "    sampler.addProposalToCycle(jp.draw_from_par_prior(pp),5)\n",
    "\n",
    "#draw from gamma_P priors\n",
    "gammap_params = [psr.name+'_cw_gamma_P' for psr in psrs_fix]\n",
    "for gp in gammap_params:\n",
    "    sampler.addProposalToCycle(jp.draw_from_par_prior(gp),5)\n",
    "\n",
    "rn_params = [psr.name+'_red_noise_gamma' for psr in psrs_fix]\n",
    "for rnp in rn_params:\n",
    "    sampler.addProposalToCycle(jp.draw_from_par_prior(rnp),5)\n",
    "\n",
    "rna_params = [psr.name+'_red_noise_log10_A' for psr in psrs_fix]\n",
    "for rna in rna_params:\n",
    "    sampler.addProposalToCycle(jp.draw_from_par_prior(rna),5)\n",
    "\n",
    "if crn_type == 'vary':\n",
    "    crn_params = ['gwb_gamma', 'gwb_log10_A']\n",
    "    for crp in crn_params:\n",
    "        sampler.addProposalToCycle(jp.draw_from_par_prior(crp),5)\n",
    "\n",
    "#RN empirical distribution prior draw\n",
    "if empirical_distr is not None:\n",
    "    sampler.addProposalToCycle(jp.draw_from_empirical_distr, 5)\n",
    "\n",
    "#Ephemeris prior draw\n",
    "if 'd_jupiter_mass' in pta.param_names:\n",
    "    sampler.addProposalToCycle(jp.draw_from_ephem_prior, 5)\n",
    "\n",
    "#draw from ewf priors\n",
    "ew_params = ['e0','log10_Mc', 'q', 'l0', 'gamma0', 'psi']\n",
    "for ew in ew_params:\n",
    "    sampler.addProposalToCycle(jp.draw_from_par_prior(ew),5)"
   ]
  },
  {
   "cell_type": "code",
   "execution_count": 27,
   "metadata": {},
   "outputs": [],
   "source": [
    "N = int(1.5e6)"
   ]
  },
  {
   "cell_type": "code",
   "execution_count": 28,
   "metadata": {},
   "outputs": [
    {
     "name": "stderr",
     "output_type": "stream",
     "text": [
      "/home/bcheeseboro/anaconda3/envs/enterprise/lib/python3.6/site-packages/enterprise/signals/parameter.py:64: RuntimeWarning: divide by zero encountered in log\n",
      "  logpdf = np.log(self.prior(value, **kwargs))\n"
     ]
    },
    {
     "name": "stdout",
     "output_type": "stream",
     "text": [
      "Finished 0.67 percent in 1094.748648 s Acceptance rate = 0.76514Adding DE jump with weight 50\n",
      "Finished 29.60 percent in 286873.369907 s Acceptance rate = 0.480115"
     ]
    },
    {
     "ename": "KeyboardInterrupt",
     "evalue": "",
     "output_type": "error",
     "traceback": [
      "\u001b[0;31m---------------------------------------------------------------------------\u001b[0m",
      "\u001b[0;31mKeyboardInterrupt\u001b[0m                         Traceback (most recent call last)",
      "\u001b[0;32m<ipython-input-28-ea8256e2fdfc>\u001b[0m in \u001b[0;36m<module>\u001b[0;34m\u001b[0m\n\u001b[0;32m----> 1\u001b[0;31m \u001b[0msampler\u001b[0m\u001b[0;34m.\u001b[0m\u001b[0msample\u001b[0m\u001b[0;34m(\u001b[0m\u001b[0mxecc\u001b[0m\u001b[0;34m,\u001b[0m \u001b[0mN\u001b[0m\u001b[0;34m,\u001b[0m \u001b[0mSCAMweight\u001b[0m\u001b[0;34m=\u001b[0m\u001b[0;36m30\u001b[0m\u001b[0;34m,\u001b[0m \u001b[0mAMweight\u001b[0m\u001b[0;34m=\u001b[0m\u001b[0;36m15\u001b[0m\u001b[0;34m,\u001b[0m \u001b[0mDEweight\u001b[0m\u001b[0;34m=\u001b[0m\u001b[0;36m50\u001b[0m\u001b[0;34m)\u001b[0m\u001b[0;34m\u001b[0m\u001b[0;34m\u001b[0m\u001b[0m\n\u001b[0m",
      "\u001b[0;32m~/anaconda3/envs/enterprise/lib/python3.6/site-packages/PTMCMCSampler/PTMCMCSampler.py\u001b[0m in \u001b[0;36msample\u001b[0;34m(self, p0, Niter, ladder, Tmin, Tmax, Tskip, isave, covUpdate, SCAMweight, AMweight, DEweight, NUTSweight, MALAweight, HMCweight, burn, HMCstepsize, HMCsteps, maxIter, thin, i0, neff, writeHotChains, hotChain)\u001b[0m\n\u001b[1;32m    360\u001b[0m             \u001b[0;31m# call PTMCMCOneStep\u001b[0m\u001b[0;34m\u001b[0m\u001b[0;34m\u001b[0m\u001b[0;34m\u001b[0m\u001b[0m\n\u001b[1;32m    361\u001b[0m             p0, lnlike0, lnprob0 = self.PTMCMCOneStep(\n\u001b[0;32m--> 362\u001b[0;31m                 p0, lnlike0, lnprob0, iter)\n\u001b[0m\u001b[1;32m    363\u001b[0m \u001b[0;34m\u001b[0m\u001b[0m\n\u001b[1;32m    364\u001b[0m             \u001b[0;31m# compute effective number of samples\u001b[0m\u001b[0;34m\u001b[0m\u001b[0;34m\u001b[0m\u001b[0;34m\u001b[0m\u001b[0m\n",
      "\u001b[0;32m~/anaconda3/envs/enterprise/lib/python3.6/site-packages/PTMCMCSampler/PTMCMCSampler.py\u001b[0m in \u001b[0;36mPTMCMCOneStep\u001b[0;34m(self, p0, lnlike0, lnprob0, iter)\u001b[0m\n\u001b[1;32m    488\u001b[0m             \u001b[0;32melse\u001b[0m\u001b[0;34m:\u001b[0m\u001b[0;34m\u001b[0m\u001b[0;34m\u001b[0m\u001b[0m\n\u001b[1;32m    489\u001b[0m \u001b[0;34m\u001b[0m\u001b[0m\n\u001b[0;32m--> 490\u001b[0;31m                 \u001b[0mnewlnlike\u001b[0m \u001b[0;34m=\u001b[0m \u001b[0mself\u001b[0m\u001b[0;34m.\u001b[0m\u001b[0mlogl\u001b[0m\u001b[0;34m(\u001b[0m\u001b[0my\u001b[0m\u001b[0;34m)\u001b[0m\u001b[0;34m\u001b[0m\u001b[0;34m\u001b[0m\u001b[0m\n\u001b[0m\u001b[1;32m    491\u001b[0m                 \u001b[0mnewlnprob\u001b[0m \u001b[0;34m=\u001b[0m \u001b[0;36m1\u001b[0m \u001b[0;34m/\u001b[0m \u001b[0mself\u001b[0m\u001b[0;34m.\u001b[0m\u001b[0mtemp\u001b[0m \u001b[0;34m*\u001b[0m \u001b[0mnewlnlike\u001b[0m \u001b[0;34m+\u001b[0m \u001b[0mlp\u001b[0m\u001b[0;34m\u001b[0m\u001b[0;34m\u001b[0m\u001b[0m\n\u001b[1;32m    492\u001b[0m \u001b[0;34m\u001b[0m\u001b[0m\n",
      "\u001b[0;32m~/anaconda3/envs/enterprise/lib/python3.6/site-packages/PTMCMCSampler/PTMCMCSampler.py\u001b[0m in \u001b[0;36m__call__\u001b[0;34m(self, x)\u001b[0m\n\u001b[1;32m   1024\u001b[0m \u001b[0;34m\u001b[0m\u001b[0m\n\u001b[1;32m   1025\u001b[0m     \u001b[0;32mdef\u001b[0m \u001b[0m__call__\u001b[0m\u001b[0;34m(\u001b[0m\u001b[0mself\u001b[0m\u001b[0;34m,\u001b[0m \u001b[0mx\u001b[0m\u001b[0;34m)\u001b[0m\u001b[0;34m:\u001b[0m\u001b[0;34m\u001b[0m\u001b[0;34m\u001b[0m\u001b[0m\n\u001b[0;32m-> 1026\u001b[0;31m         \u001b[0;32mreturn\u001b[0m \u001b[0mself\u001b[0m\u001b[0;34m.\u001b[0m\u001b[0mf\u001b[0m\u001b[0;34m(\u001b[0m\u001b[0mx\u001b[0m\u001b[0;34m,\u001b[0m \u001b[0;34m*\u001b[0m\u001b[0mself\u001b[0m\u001b[0;34m.\u001b[0m\u001b[0margs\u001b[0m\u001b[0;34m,\u001b[0m \u001b[0;34m**\u001b[0m\u001b[0mself\u001b[0m\u001b[0;34m.\u001b[0m\u001b[0mkwargs\u001b[0m\u001b[0;34m)\u001b[0m\u001b[0;34m\u001b[0m\u001b[0;34m\u001b[0m\u001b[0m\n\u001b[0m",
      "\u001b[0;32m~/anaconda3/envs/enterprise/lib/python3.6/site-packages/enterprise/signals/signal_base.py\u001b[0m in \u001b[0;36mget_lnlikelihood\u001b[0;34m(self, params, **kwargs)\u001b[0m\n\u001b[1;32m    293\u001b[0m \u001b[0;34m\u001b[0m\u001b[0m\n\u001b[1;32m    294\u001b[0m     \u001b[0;32mdef\u001b[0m \u001b[0mget_lnlikelihood\u001b[0m\u001b[0;34m(\u001b[0m\u001b[0mself\u001b[0m\u001b[0;34m,\u001b[0m \u001b[0mparams\u001b[0m\u001b[0;34m,\u001b[0m \u001b[0;34m**\u001b[0m\u001b[0mkwargs\u001b[0m\u001b[0;34m)\u001b[0m\u001b[0;34m:\u001b[0m\u001b[0;34m\u001b[0m\u001b[0;34m\u001b[0m\u001b[0m\n\u001b[0;32m--> 295\u001b[0;31m         \u001b[0;32mreturn\u001b[0m \u001b[0mself\u001b[0m\u001b[0;34m.\u001b[0m\u001b[0m_lnlikelihood\u001b[0m\u001b[0;34m(\u001b[0m\u001b[0mparams\u001b[0m\u001b[0;34m,\u001b[0m \u001b[0;34m**\u001b[0m\u001b[0mkwargs\u001b[0m\u001b[0;34m)\u001b[0m\u001b[0;34m\u001b[0m\u001b[0;34m\u001b[0m\u001b[0m\n\u001b[0m\u001b[1;32m    296\u001b[0m \u001b[0;34m\u001b[0m\u001b[0m\n\u001b[1;32m    297\u001b[0m     \u001b[0;34m@\u001b[0m\u001b[0mproperty\u001b[0m\u001b[0;34m\u001b[0m\u001b[0;34m\u001b[0m\u001b[0m\n",
      "\u001b[0;32m~/anaconda3/envs/enterprise/lib/python3.6/site-packages/enterprise/signals/signal_base.py\u001b[0m in \u001b[0;36m__call__\u001b[0;34m(self, xs, phiinv_method)\u001b[0m\n\u001b[1;32m    167\u001b[0m         \u001b[0;31m# phiinvs will be a list or may be a big matrix if spatially\u001b[0m\u001b[0;34m\u001b[0m\u001b[0;34m\u001b[0m\u001b[0;34m\u001b[0m\u001b[0m\n\u001b[1;32m    168\u001b[0m         \u001b[0;31m# correlated signals\u001b[0m\u001b[0;34m\u001b[0m\u001b[0;34m\u001b[0m\u001b[0;34m\u001b[0m\u001b[0m\n\u001b[0;32m--> 169\u001b[0;31m         \u001b[0mTNrs\u001b[0m \u001b[0;34m=\u001b[0m \u001b[0mself\u001b[0m\u001b[0;34m.\u001b[0m\u001b[0mpta\u001b[0m\u001b[0;34m.\u001b[0m\u001b[0mget_TNr\u001b[0m\u001b[0;34m(\u001b[0m\u001b[0mparams\u001b[0m\u001b[0;34m)\u001b[0m\u001b[0;34m\u001b[0m\u001b[0;34m\u001b[0m\u001b[0m\n\u001b[0m\u001b[1;32m    170\u001b[0m         \u001b[0mTNTs\u001b[0m \u001b[0;34m=\u001b[0m \u001b[0mself\u001b[0m\u001b[0;34m.\u001b[0m\u001b[0mpta\u001b[0m\u001b[0;34m.\u001b[0m\u001b[0mget_TNT\u001b[0m\u001b[0;34m(\u001b[0m\u001b[0mparams\u001b[0m\u001b[0;34m)\u001b[0m\u001b[0;34m\u001b[0m\u001b[0;34m\u001b[0m\u001b[0m\n\u001b[1;32m    171\u001b[0m         \u001b[0mphiinvs\u001b[0m \u001b[0;34m=\u001b[0m \u001b[0mself\u001b[0m\u001b[0;34m.\u001b[0m\u001b[0mpta\u001b[0m\u001b[0;34m.\u001b[0m\u001b[0mget_phiinv\u001b[0m\u001b[0;34m(\u001b[0m\u001b[0mparams\u001b[0m\u001b[0;34m,\u001b[0m \u001b[0mlogdet\u001b[0m\u001b[0;34m=\u001b[0m\u001b[0;32mTrue\u001b[0m\u001b[0;34m,\u001b[0m \u001b[0mmethod\u001b[0m\u001b[0;34m=\u001b[0m\u001b[0mphiinv_method\u001b[0m\u001b[0;34m)\u001b[0m\u001b[0;34m\u001b[0m\u001b[0;34m\u001b[0m\u001b[0m\n",
      "\u001b[0;32m~/anaconda3/envs/enterprise/lib/python3.6/site-packages/enterprise/signals/signal_base.py\u001b[0m in \u001b[0;36mget_TNr\u001b[0;34m(self, params)\u001b[0m\n\u001b[1;32m    260\u001b[0m \u001b[0;34m\u001b[0m\u001b[0m\n\u001b[1;32m    261\u001b[0m     \u001b[0;32mdef\u001b[0m \u001b[0mget_TNr\u001b[0m\u001b[0;34m(\u001b[0m\u001b[0mself\u001b[0m\u001b[0;34m,\u001b[0m \u001b[0mparams\u001b[0m\u001b[0;34m)\u001b[0m\u001b[0;34m:\u001b[0m\u001b[0;34m\u001b[0m\u001b[0;34m\u001b[0m\u001b[0m\n\u001b[0;32m--> 262\u001b[0;31m         \u001b[0;32mreturn\u001b[0m \u001b[0;34m[\u001b[0m\u001b[0msignalcollection\u001b[0m\u001b[0;34m.\u001b[0m\u001b[0mget_TNr\u001b[0m\u001b[0;34m(\u001b[0m\u001b[0mparams\u001b[0m\u001b[0;34m)\u001b[0m \u001b[0;32mfor\u001b[0m \u001b[0msignalcollection\u001b[0m \u001b[0;32min\u001b[0m \u001b[0mself\u001b[0m\u001b[0;34m.\u001b[0m\u001b[0m_signalcollections\u001b[0m\u001b[0;34m]\u001b[0m\u001b[0;34m\u001b[0m\u001b[0;34m\u001b[0m\u001b[0m\n\u001b[0m\u001b[1;32m    263\u001b[0m \u001b[0;34m\u001b[0m\u001b[0m\n\u001b[1;32m    264\u001b[0m     \u001b[0;32mdef\u001b[0m \u001b[0mget_TNT\u001b[0m\u001b[0;34m(\u001b[0m\u001b[0mself\u001b[0m\u001b[0;34m,\u001b[0m \u001b[0mparams\u001b[0m\u001b[0;34m)\u001b[0m\u001b[0;34m:\u001b[0m\u001b[0;34m\u001b[0m\u001b[0;34m\u001b[0m\u001b[0m\n",
      "\u001b[0;32m~/anaconda3/envs/enterprise/lib/python3.6/site-packages/enterprise/signals/signal_base.py\u001b[0m in \u001b[0;36m<listcomp>\u001b[0;34m(.0)\u001b[0m\n\u001b[1;32m    260\u001b[0m \u001b[0;34m\u001b[0m\u001b[0m\n\u001b[1;32m    261\u001b[0m     \u001b[0;32mdef\u001b[0m \u001b[0mget_TNr\u001b[0m\u001b[0;34m(\u001b[0m\u001b[0mself\u001b[0m\u001b[0;34m,\u001b[0m \u001b[0mparams\u001b[0m\u001b[0;34m)\u001b[0m\u001b[0;34m:\u001b[0m\u001b[0;34m\u001b[0m\u001b[0;34m\u001b[0m\u001b[0m\n\u001b[0;32m--> 262\u001b[0;31m         \u001b[0;32mreturn\u001b[0m \u001b[0;34m[\u001b[0m\u001b[0msignalcollection\u001b[0m\u001b[0;34m.\u001b[0m\u001b[0mget_TNr\u001b[0m\u001b[0;34m(\u001b[0m\u001b[0mparams\u001b[0m\u001b[0;34m)\u001b[0m \u001b[0;32mfor\u001b[0m \u001b[0msignalcollection\u001b[0m \u001b[0;32min\u001b[0m \u001b[0mself\u001b[0m\u001b[0;34m.\u001b[0m\u001b[0m_signalcollections\u001b[0m\u001b[0;34m]\u001b[0m\u001b[0;34m\u001b[0m\u001b[0;34m\u001b[0m\u001b[0m\n\u001b[0m\u001b[1;32m    263\u001b[0m \u001b[0;34m\u001b[0m\u001b[0m\n\u001b[1;32m    264\u001b[0m     \u001b[0;32mdef\u001b[0m \u001b[0mget_TNT\u001b[0m\u001b[0;34m(\u001b[0m\u001b[0mself\u001b[0m\u001b[0;34m,\u001b[0m \u001b[0mparams\u001b[0m\u001b[0;34m)\u001b[0m\u001b[0;34m:\u001b[0m\u001b[0;34m\u001b[0m\u001b[0;34m\u001b[0m\u001b[0m\n",
      "\u001b[0;32m~/anaconda3/envs/enterprise/lib/python3.6/site-packages/enterprise/signals/signal_base.py\u001b[0m in \u001b[0;36mwrapper\u001b[0;34m(self, params)\u001b[0m\n\u001b[1;32m    898\u001b[0m                 \u001b[0mlogger\u001b[0m\u001b[0;34m.\u001b[0m\u001b[0mdebug\u001b[0m\u001b[0;34m(\u001b[0m\u001b[0mmsg\u001b[0m\u001b[0;34m)\u001b[0m\u001b[0;34m\u001b[0m\u001b[0;34m\u001b[0m\u001b[0m\n\u001b[1;32m    899\u001b[0m                 \u001b[0mcache_list\u001b[0m\u001b[0;34m.\u001b[0m\u001b[0mappend\u001b[0m\u001b[0;34m(\u001b[0m\u001b[0mkey\u001b[0m\u001b[0;34m)\u001b[0m\u001b[0;34m\u001b[0m\u001b[0;34m\u001b[0m\u001b[0m\n\u001b[0;32m--> 900\u001b[0;31m                 \u001b[0mcache\u001b[0m\u001b[0;34m[\u001b[0m\u001b[0mkey\u001b[0m\u001b[0;34m]\u001b[0m \u001b[0;34m=\u001b[0m \u001b[0mfunc\u001b[0m\u001b[0;34m(\u001b[0m\u001b[0mself\u001b[0m\u001b[0;34m,\u001b[0m \u001b[0mparams\u001b[0m\u001b[0;34m)\u001b[0m\u001b[0;34m\u001b[0m\u001b[0;34m\u001b[0m\u001b[0m\n\u001b[0m\u001b[1;32m    901\u001b[0m                 \u001b[0;32mif\u001b[0m \u001b[0mlen\u001b[0m\u001b[0;34m(\u001b[0m\u001b[0mcache_list\u001b[0m\u001b[0;34m)\u001b[0m \u001b[0;34m>\u001b[0m \u001b[0mlimit\u001b[0m\u001b[0;34m:\u001b[0m\u001b[0;34m\u001b[0m\u001b[0;34m\u001b[0m\u001b[0m\n\u001b[1;32m    902\u001b[0m                     \u001b[0m_\u001b[0m \u001b[0;34m=\u001b[0m \u001b[0mcache\u001b[0m\u001b[0;34m.\u001b[0m\u001b[0mpop\u001b[0m\u001b[0;34m(\u001b[0m\u001b[0mcache_list\u001b[0m\u001b[0;34m.\u001b[0m\u001b[0mpop\u001b[0m\u001b[0;34m(\u001b[0m\u001b[0;36m0\u001b[0m\u001b[0;34m)\u001b[0m\u001b[0;34m,\u001b[0m \u001b[0;32mNone\u001b[0m\u001b[0;34m)\u001b[0m  \u001b[0;31m# noqa: F841\u001b[0m\u001b[0;34m\u001b[0m\u001b[0;34m\u001b[0m\u001b[0m\n",
      "\u001b[0;32m~/anaconda3/envs/enterprise/lib/python3.6/site-packages/enterprise/signals/signal_base.py\u001b[0m in \u001b[0;36mget_TNr\u001b[0;34m(self, params)\u001b[0m\n\u001b[1;32m    831\u001b[0m                 \u001b[0;32mreturn\u001b[0m \u001b[0;32mNone\u001b[0m\u001b[0;34m\u001b[0m\u001b[0;34m\u001b[0m\u001b[0m\n\u001b[1;32m    832\u001b[0m             \u001b[0mNvec\u001b[0m \u001b[0;34m=\u001b[0m \u001b[0mself\u001b[0m\u001b[0;34m.\u001b[0m\u001b[0mget_ndiag\u001b[0m\u001b[0;34m(\u001b[0m\u001b[0mparams\u001b[0m\u001b[0;34m)\u001b[0m\u001b[0;34m\u001b[0m\u001b[0;34m\u001b[0m\u001b[0m\n\u001b[0;32m--> 833\u001b[0;31m             \u001b[0mres\u001b[0m \u001b[0;34m=\u001b[0m \u001b[0mself\u001b[0m\u001b[0;34m.\u001b[0m\u001b[0mget_detres\u001b[0m\u001b[0;34m(\u001b[0m\u001b[0mparams\u001b[0m\u001b[0;34m)\u001b[0m\u001b[0;34m\u001b[0m\u001b[0;34m\u001b[0m\u001b[0m\n\u001b[0m\u001b[1;32m    834\u001b[0m             \u001b[0;32mreturn\u001b[0m \u001b[0mNvec\u001b[0m\u001b[0;34m.\u001b[0m\u001b[0msolve\u001b[0m\u001b[0;34m(\u001b[0m\u001b[0mres\u001b[0m\u001b[0;34m,\u001b[0m \u001b[0mleft_array\u001b[0m\u001b[0;34m=\u001b[0m\u001b[0mT\u001b[0m\u001b[0;34m)\u001b[0m\u001b[0;34m\u001b[0m\u001b[0;34m\u001b[0m\u001b[0m\n\u001b[1;32m    835\u001b[0m \u001b[0;34m\u001b[0m\u001b[0m\n",
      "\u001b[0;32m~/anaconda3/envs/enterprise/lib/python3.6/site-packages/enterprise/signals/signal_base.py\u001b[0m in \u001b[0;36mwrapper\u001b[0;34m(self, params)\u001b[0m\n\u001b[1;32m    898\u001b[0m                 \u001b[0mlogger\u001b[0m\u001b[0;34m.\u001b[0m\u001b[0mdebug\u001b[0m\u001b[0;34m(\u001b[0m\u001b[0mmsg\u001b[0m\u001b[0;34m)\u001b[0m\u001b[0;34m\u001b[0m\u001b[0;34m\u001b[0m\u001b[0m\n\u001b[1;32m    899\u001b[0m                 \u001b[0mcache_list\u001b[0m\u001b[0;34m.\u001b[0m\u001b[0mappend\u001b[0m\u001b[0;34m(\u001b[0m\u001b[0mkey\u001b[0m\u001b[0;34m)\u001b[0m\u001b[0;34m\u001b[0m\u001b[0;34m\u001b[0m\u001b[0m\n\u001b[0;32m--> 900\u001b[0;31m                 \u001b[0mcache\u001b[0m\u001b[0;34m[\u001b[0m\u001b[0mkey\u001b[0m\u001b[0;34m]\u001b[0m \u001b[0;34m=\u001b[0m \u001b[0mfunc\u001b[0m\u001b[0;34m(\u001b[0m\u001b[0mself\u001b[0m\u001b[0;34m,\u001b[0m \u001b[0mparams\u001b[0m\u001b[0;34m)\u001b[0m\u001b[0;34m\u001b[0m\u001b[0;34m\u001b[0m\u001b[0m\n\u001b[0m\u001b[1;32m    901\u001b[0m                 \u001b[0;32mif\u001b[0m \u001b[0mlen\u001b[0m\u001b[0;34m(\u001b[0m\u001b[0mcache_list\u001b[0m\u001b[0;34m)\u001b[0m \u001b[0;34m>\u001b[0m \u001b[0mlimit\u001b[0m\u001b[0;34m:\u001b[0m\u001b[0;34m\u001b[0m\u001b[0;34m\u001b[0m\u001b[0m\n\u001b[1;32m    902\u001b[0m                     \u001b[0m_\u001b[0m \u001b[0;34m=\u001b[0m \u001b[0mcache\u001b[0m\u001b[0;34m.\u001b[0m\u001b[0mpop\u001b[0m\u001b[0;34m(\u001b[0m\u001b[0mcache_list\u001b[0m\u001b[0;34m.\u001b[0m\u001b[0mpop\u001b[0m\u001b[0;34m(\u001b[0m\u001b[0;36m0\u001b[0m\u001b[0;34m)\u001b[0m\u001b[0;34m,\u001b[0m \u001b[0;32mNone\u001b[0m\u001b[0;34m)\u001b[0m  \u001b[0;31m# noqa: F841\u001b[0m\u001b[0;34m\u001b[0m\u001b[0;34m\u001b[0m\u001b[0m\n",
      "\u001b[0;32m~/anaconda3/envs/enterprise/lib/python3.6/site-packages/enterprise/signals/signal_base.py\u001b[0m in \u001b[0;36mget_detres\u001b[0;34m(self, params)\u001b[0m\n\u001b[1;32m    800\u001b[0m         \u001b[0;34m@\u001b[0m\u001b[0mcache_call\u001b[0m\u001b[0;34m(\u001b[0m\u001b[0;34m\"delay_params\"\u001b[0m\u001b[0;34m)\u001b[0m\u001b[0;34m\u001b[0m\u001b[0;34m\u001b[0m\u001b[0m\n\u001b[1;32m    801\u001b[0m         \u001b[0;32mdef\u001b[0m \u001b[0mget_detres\u001b[0m\u001b[0;34m(\u001b[0m\u001b[0mself\u001b[0m\u001b[0;34m,\u001b[0m \u001b[0mparams\u001b[0m\u001b[0;34m)\u001b[0m\u001b[0;34m:\u001b[0m\u001b[0;34m\u001b[0m\u001b[0;34m\u001b[0m\u001b[0m\n\u001b[0;32m--> 802\u001b[0;31m             \u001b[0;32mreturn\u001b[0m \u001b[0mself\u001b[0m\u001b[0;34m.\u001b[0m\u001b[0m_residuals\u001b[0m \u001b[0;34m-\u001b[0m \u001b[0mself\u001b[0m\u001b[0;34m.\u001b[0m\u001b[0mget_delay\u001b[0m\u001b[0;34m(\u001b[0m\u001b[0mparams\u001b[0m\u001b[0;34m)\u001b[0m\u001b[0;34m\u001b[0m\u001b[0;34m\u001b[0m\u001b[0m\n\u001b[0m\u001b[1;32m    803\u001b[0m \u001b[0;34m\u001b[0m\u001b[0m\n\u001b[1;32m    804\u001b[0m         \u001b[0;34m@\u001b[0m\u001b[0mcache_call\u001b[0m\u001b[0;34m(\u001b[0m\u001b[0;34m\"basis_params\"\u001b[0m\u001b[0;34m)\u001b[0m\u001b[0;34m\u001b[0m\u001b[0;34m\u001b[0m\u001b[0m\n",
      "\u001b[0;32m~/anaconda3/envs/enterprise/lib/python3.6/site-packages/enterprise/signals/signal_base.py\u001b[0m in \u001b[0;36mwrapper\u001b[0;34m(self, params)\u001b[0m\n\u001b[1;32m    898\u001b[0m                 \u001b[0mlogger\u001b[0m\u001b[0;34m.\u001b[0m\u001b[0mdebug\u001b[0m\u001b[0;34m(\u001b[0m\u001b[0mmsg\u001b[0m\u001b[0;34m)\u001b[0m\u001b[0;34m\u001b[0m\u001b[0;34m\u001b[0m\u001b[0m\n\u001b[1;32m    899\u001b[0m                 \u001b[0mcache_list\u001b[0m\u001b[0;34m.\u001b[0m\u001b[0mappend\u001b[0m\u001b[0;34m(\u001b[0m\u001b[0mkey\u001b[0m\u001b[0;34m)\u001b[0m\u001b[0;34m\u001b[0m\u001b[0;34m\u001b[0m\u001b[0m\n\u001b[0;32m--> 900\u001b[0;31m                 \u001b[0mcache\u001b[0m\u001b[0;34m[\u001b[0m\u001b[0mkey\u001b[0m\u001b[0;34m]\u001b[0m \u001b[0;34m=\u001b[0m \u001b[0mfunc\u001b[0m\u001b[0;34m(\u001b[0m\u001b[0mself\u001b[0m\u001b[0;34m,\u001b[0m \u001b[0mparams\u001b[0m\u001b[0;34m)\u001b[0m\u001b[0;34m\u001b[0m\u001b[0;34m\u001b[0m\u001b[0m\n\u001b[0m\u001b[1;32m    901\u001b[0m                 \u001b[0;32mif\u001b[0m \u001b[0mlen\u001b[0m\u001b[0;34m(\u001b[0m\u001b[0mcache_list\u001b[0m\u001b[0;34m)\u001b[0m \u001b[0;34m>\u001b[0m \u001b[0mlimit\u001b[0m\u001b[0;34m:\u001b[0m\u001b[0;34m\u001b[0m\u001b[0;34m\u001b[0m\u001b[0m\n\u001b[1;32m    902\u001b[0m                     \u001b[0m_\u001b[0m \u001b[0;34m=\u001b[0m \u001b[0mcache\u001b[0m\u001b[0;34m.\u001b[0m\u001b[0mpop\u001b[0m\u001b[0;34m(\u001b[0m\u001b[0mcache_list\u001b[0m\u001b[0;34m.\u001b[0m\u001b[0mpop\u001b[0m\u001b[0;34m(\u001b[0m\u001b[0;36m0\u001b[0m\u001b[0;34m)\u001b[0m\u001b[0;34m,\u001b[0m \u001b[0;32mNone\u001b[0m\u001b[0;34m)\u001b[0m  \u001b[0;31m# noqa: F841\u001b[0m\u001b[0;34m\u001b[0m\u001b[0;34m\u001b[0m\u001b[0m\n",
      "\u001b[0;32m~/anaconda3/envs/enterprise/lib/python3.6/site-packages/enterprise/signals/signal_base.py\u001b[0m in \u001b[0;36mget_delay\u001b[0;34m(self, params)\u001b[0m\n\u001b[1;32m    795\u001b[0m         \u001b[0;34m@\u001b[0m\u001b[0mcache_call\u001b[0m\u001b[0;34m(\u001b[0m\u001b[0;34m\"delay_params\"\u001b[0m\u001b[0;34m)\u001b[0m\u001b[0;34m\u001b[0m\u001b[0;34m\u001b[0m\u001b[0m\n\u001b[1;32m    796\u001b[0m         \u001b[0;32mdef\u001b[0m \u001b[0mget_delay\u001b[0m\u001b[0;34m(\u001b[0m\u001b[0mself\u001b[0m\u001b[0;34m,\u001b[0m \u001b[0mparams\u001b[0m\u001b[0;34m)\u001b[0m\u001b[0;34m:\u001b[0m\u001b[0;34m\u001b[0m\u001b[0;34m\u001b[0m\u001b[0m\n\u001b[0;32m--> 797\u001b[0;31m             \u001b[0mdelays\u001b[0m \u001b[0;34m=\u001b[0m \u001b[0;34m[\u001b[0m\u001b[0msignal\u001b[0m\u001b[0;34m.\u001b[0m\u001b[0mget_delay\u001b[0m\u001b[0;34m(\u001b[0m\u001b[0mparams\u001b[0m\u001b[0;34m)\u001b[0m \u001b[0;32mfor\u001b[0m \u001b[0msignal\u001b[0m \u001b[0;32min\u001b[0m \u001b[0mself\u001b[0m\u001b[0;34m.\u001b[0m\u001b[0m_signals\u001b[0m\u001b[0;34m]\u001b[0m\u001b[0;34m\u001b[0m\u001b[0;34m\u001b[0m\u001b[0m\n\u001b[0m\u001b[1;32m    798\u001b[0m             \u001b[0;32mreturn\u001b[0m \u001b[0msum\u001b[0m\u001b[0;34m(\u001b[0m\u001b[0mdelay\u001b[0m \u001b[0;32mfor\u001b[0m \u001b[0mdelay\u001b[0m \u001b[0;32min\u001b[0m \u001b[0mdelays\u001b[0m \u001b[0;32mif\u001b[0m \u001b[0mdelay\u001b[0m \u001b[0;32mis\u001b[0m \u001b[0;32mnot\u001b[0m \u001b[0;32mNone\u001b[0m\u001b[0;34m)\u001b[0m\u001b[0;34m\u001b[0m\u001b[0;34m\u001b[0m\u001b[0m\n\u001b[1;32m    799\u001b[0m \u001b[0;34m\u001b[0m\u001b[0m\n",
      "\u001b[0;32m~/anaconda3/envs/enterprise/lib/python3.6/site-packages/enterprise/signals/signal_base.py\u001b[0m in \u001b[0;36m<listcomp>\u001b[0;34m(.0)\u001b[0m\n\u001b[1;32m    795\u001b[0m         \u001b[0;34m@\u001b[0m\u001b[0mcache_call\u001b[0m\u001b[0;34m(\u001b[0m\u001b[0;34m\"delay_params\"\u001b[0m\u001b[0;34m)\u001b[0m\u001b[0;34m\u001b[0m\u001b[0;34m\u001b[0m\u001b[0m\n\u001b[1;32m    796\u001b[0m         \u001b[0;32mdef\u001b[0m \u001b[0mget_delay\u001b[0m\u001b[0;34m(\u001b[0m\u001b[0mself\u001b[0m\u001b[0;34m,\u001b[0m \u001b[0mparams\u001b[0m\u001b[0;34m)\u001b[0m\u001b[0;34m:\u001b[0m\u001b[0;34m\u001b[0m\u001b[0;34m\u001b[0m\u001b[0m\n\u001b[0;32m--> 797\u001b[0;31m             \u001b[0mdelays\u001b[0m \u001b[0;34m=\u001b[0m \u001b[0;34m[\u001b[0m\u001b[0msignal\u001b[0m\u001b[0;34m.\u001b[0m\u001b[0mget_delay\u001b[0m\u001b[0;34m(\u001b[0m\u001b[0mparams\u001b[0m\u001b[0;34m)\u001b[0m \u001b[0;32mfor\u001b[0m \u001b[0msignal\u001b[0m \u001b[0;32min\u001b[0m \u001b[0mself\u001b[0m\u001b[0;34m.\u001b[0m\u001b[0m_signals\u001b[0m\u001b[0;34m]\u001b[0m\u001b[0;34m\u001b[0m\u001b[0;34m\u001b[0m\u001b[0m\n\u001b[0m\u001b[1;32m    798\u001b[0m             \u001b[0;32mreturn\u001b[0m \u001b[0msum\u001b[0m\u001b[0;34m(\u001b[0m\u001b[0mdelay\u001b[0m \u001b[0;32mfor\u001b[0m \u001b[0mdelay\u001b[0m \u001b[0;32min\u001b[0m \u001b[0mdelays\u001b[0m \u001b[0;32mif\u001b[0m \u001b[0mdelay\u001b[0m \u001b[0;32mis\u001b[0m \u001b[0;32mnot\u001b[0m \u001b[0;32mNone\u001b[0m\u001b[0;34m)\u001b[0m\u001b[0;34m\u001b[0m\u001b[0;34m\u001b[0m\u001b[0m\n\u001b[1;32m    799\u001b[0m \u001b[0;34m\u001b[0m\u001b[0m\n",
      "\u001b[0;32m~/anaconda3/envs/enterprise/lib/python3.6/site-packages/enterprise/signals/signal_base.py\u001b[0m in \u001b[0;36mwrapper\u001b[0;34m(self, params)\u001b[0m\n\u001b[1;32m    898\u001b[0m                 \u001b[0mlogger\u001b[0m\u001b[0;34m.\u001b[0m\u001b[0mdebug\u001b[0m\u001b[0;34m(\u001b[0m\u001b[0mmsg\u001b[0m\u001b[0;34m)\u001b[0m\u001b[0;34m\u001b[0m\u001b[0;34m\u001b[0m\u001b[0m\n\u001b[1;32m    899\u001b[0m                 \u001b[0mcache_list\u001b[0m\u001b[0;34m.\u001b[0m\u001b[0mappend\u001b[0m\u001b[0;34m(\u001b[0m\u001b[0mkey\u001b[0m\u001b[0;34m)\u001b[0m\u001b[0;34m\u001b[0m\u001b[0;34m\u001b[0m\u001b[0m\n\u001b[0;32m--> 900\u001b[0;31m                 \u001b[0mcache\u001b[0m\u001b[0;34m[\u001b[0m\u001b[0mkey\u001b[0m\u001b[0;34m]\u001b[0m \u001b[0;34m=\u001b[0m \u001b[0mfunc\u001b[0m\u001b[0;34m(\u001b[0m\u001b[0mself\u001b[0m\u001b[0;34m,\u001b[0m \u001b[0mparams\u001b[0m\u001b[0;34m)\u001b[0m\u001b[0;34m\u001b[0m\u001b[0;34m\u001b[0m\u001b[0m\n\u001b[0m\u001b[1;32m    901\u001b[0m                 \u001b[0;32mif\u001b[0m \u001b[0mlen\u001b[0m\u001b[0;34m(\u001b[0m\u001b[0mcache_list\u001b[0m\u001b[0;34m)\u001b[0m \u001b[0;34m>\u001b[0m \u001b[0mlimit\u001b[0m\u001b[0;34m:\u001b[0m\u001b[0;34m\u001b[0m\u001b[0;34m\u001b[0m\u001b[0m\n\u001b[1;32m    902\u001b[0m                     \u001b[0m_\u001b[0m \u001b[0;34m=\u001b[0m \u001b[0mcache\u001b[0m\u001b[0;34m.\u001b[0m\u001b[0mpop\u001b[0m\u001b[0;34m(\u001b[0m\u001b[0mcache_list\u001b[0m\u001b[0;34m.\u001b[0m\u001b[0mpop\u001b[0m\u001b[0;34m(\u001b[0m\u001b[0;36m0\u001b[0m\u001b[0;34m)\u001b[0m\u001b[0;34m,\u001b[0m \u001b[0;32mNone\u001b[0m\u001b[0;34m)\u001b[0m  \u001b[0;31m# noqa: F841\u001b[0m\u001b[0;34m\u001b[0m\u001b[0;34m\u001b[0m\u001b[0m\n",
      "\u001b[0;32m~/anaconda3/envs/enterprise/lib/python3.6/site-packages/enterprise/signals/deterministic_signals.py\u001b[0m in \u001b[0;36mget_delay\u001b[0;34m(self, params)\u001b[0m\n\u001b[1;32m     50\u001b[0m             \u001b[0;34m\"\"\"Return signal delay.\"\"\"\u001b[0m\u001b[0;34m\u001b[0m\u001b[0;34m\u001b[0m\u001b[0m\n\u001b[1;32m     51\u001b[0m             \u001b[0;32mfor\u001b[0m \u001b[0mkey\u001b[0m\u001b[0;34m,\u001b[0m \u001b[0mmask\u001b[0m \u001b[0;32min\u001b[0m \u001b[0mzip\u001b[0m\u001b[0;34m(\u001b[0m\u001b[0mself\u001b[0m\u001b[0;34m.\u001b[0m\u001b[0m_keys\u001b[0m\u001b[0;34m,\u001b[0m \u001b[0mself\u001b[0m\u001b[0;34m.\u001b[0m\u001b[0m_masks\u001b[0m\u001b[0;34m)\u001b[0m\u001b[0;34m:\u001b[0m\u001b[0;34m\u001b[0m\u001b[0;34m\u001b[0m\u001b[0m\n\u001b[0;32m---> 52\u001b[0;31m                 \u001b[0mself\u001b[0m\u001b[0;34m.\u001b[0m\u001b[0m_delay\u001b[0m\u001b[0;34m[\u001b[0m\u001b[0mmask\u001b[0m\u001b[0;34m]\u001b[0m \u001b[0;34m=\u001b[0m \u001b[0mself\u001b[0m\u001b[0;34m.\u001b[0m\u001b[0m_wf\u001b[0m\u001b[0;34m[\u001b[0m\u001b[0mkey\u001b[0m\u001b[0;34m]\u001b[0m\u001b[0;34m(\u001b[0m\u001b[0mparams\u001b[0m\u001b[0;34m=\u001b[0m\u001b[0mparams\u001b[0m\u001b[0;34m,\u001b[0m \u001b[0mmask\u001b[0m\u001b[0;34m=\u001b[0m\u001b[0mmask\u001b[0m\u001b[0;34m)\u001b[0m\u001b[0;34m\u001b[0m\u001b[0;34m\u001b[0m\u001b[0m\n\u001b[0m\u001b[1;32m     53\u001b[0m             \u001b[0;32mreturn\u001b[0m \u001b[0mself\u001b[0m\u001b[0;34m.\u001b[0m\u001b[0m_delay\u001b[0m\u001b[0;34m\u001b[0m\u001b[0;34m\u001b[0m\u001b[0m\n\u001b[1;32m     54\u001b[0m \u001b[0;34m\u001b[0m\u001b[0m\n",
      "\u001b[0;32m~/anaconda3/envs/enterprise/lib/python3.6/site-packages/enterprise/signals/parameter.py\u001b[0m in \u001b[0;36m__call__\u001b[0;34m(self, *args, **kwargs)\u001b[0m\n\u001b[1;32m    464\u001b[0m             }\n\u001b[1;32m    465\u001b[0m \u001b[0;34m\u001b[0m\u001b[0m\n\u001b[0;32m--> 466\u001b[0;31m             \u001b[0;32mreturn\u001b[0m \u001b[0mfunc\u001b[0m\u001b[0;34m(\u001b[0m\u001b[0;34m*\u001b[0m\u001b[0margs\u001b[0m\u001b[0;34m,\u001b[0m \u001b[0;34m**\u001b[0m\u001b[0mkwargs\u001b[0m\u001b[0;34m)\u001b[0m\u001b[0;34m\u001b[0m\u001b[0;34m\u001b[0m\u001b[0m\n\u001b[0m\u001b[1;32m    467\u001b[0m \u001b[0;34m\u001b[0m\u001b[0m\n\u001b[1;32m    468\u001b[0m         \u001b[0;32mdef\u001b[0m \u001b[0madd_kwarg\u001b[0m\u001b[0;34m(\u001b[0m\u001b[0mself\u001b[0m\u001b[0;34m,\u001b[0m \u001b[0;34m**\u001b[0m\u001b[0mkwargs\u001b[0m\u001b[0;34m)\u001b[0m\u001b[0;34m:\u001b[0m\u001b[0;34m\u001b[0m\u001b[0;34m\u001b[0m\u001b[0m\n",
      "\u001b[0;32m~/anaconda3/envs/enterprise/lib/python3.6/site-packages/enterprise/signals/selections.py\u001b[0m in \u001b[0;36mwrapper\u001b[0;34m(*args, **kwargs)\u001b[0m\n\u001b[1;32m     48\u001b[0m             \u001b[0;32mdel\u001b[0m \u001b[0mkwargs\u001b[0m\u001b[0;34m[\u001b[0m\u001b[0;34m\"psr\"\u001b[0m\u001b[0;34m]\u001b[0m\u001b[0;34m\u001b[0m\u001b[0;34m\u001b[0m\u001b[0m\n\u001b[1;32m     49\u001b[0m \u001b[0;34m\u001b[0m\u001b[0m\n\u001b[0;32m---> 50\u001b[0;31m         \u001b[0;32mreturn\u001b[0m \u001b[0mfunc\u001b[0m\u001b[0;34m(\u001b[0m\u001b[0;34m*\u001b[0m\u001b[0mtargs\u001b[0m\u001b[0;34m,\u001b[0m \u001b[0;34m**\u001b[0m\u001b[0mkwargs\u001b[0m\u001b[0;34m)\u001b[0m\u001b[0;34m\u001b[0m\u001b[0;34m\u001b[0m\u001b[0m\n\u001b[0m\u001b[1;32m     51\u001b[0m \u001b[0;34m\u001b[0m\u001b[0m\n\u001b[1;32m     52\u001b[0m     \u001b[0;32mreturn\u001b[0m \u001b[0mwrapper\u001b[0m\u001b[0;34m\u001b[0m\u001b[0;34m\u001b[0m\u001b[0m\n",
      "\u001b[0;32m~/nanograv_proj/enterprise_proj/pta_tutorial/ecc_res.py\u001b[0m in \u001b[0;36madd_ecc_cgw\u001b[0;34m(toas, phi, theta, gwphi, gwtheta, mc, q, F0, e0, l0, gamma0, inc, psi, pdist, gwdist, l_P, gamma_P, tref, psrterm, evol, waveform_cal, res)\u001b[0m\n\u001b[1;32m     74\u001b[0m             \u001b[0mgamma0_P\u001b[0m \u001b[0;34m=\u001b[0m \u001b[0mgamma_P\u001b[0m\u001b[0;34m\u001b[0m\u001b[0;34m\u001b[0m\u001b[0m\n\u001b[1;32m     75\u001b[0m \u001b[0;34m\u001b[0m\u001b[0m\n\u001b[0;32m---> 76\u001b[0;31m         \u001b[0mresidual_P\u001b[0m \u001b[0;34m=\u001b[0m \u001b[0mwaveform\u001b[0m\u001b[0;34m.\u001b[0m\u001b[0mcalculate_sp_sx\u001b[0m\u001b[0;34m(\u001b[0m\u001b[0mtoas_P\u001b[0m\u001b[0;34m,\u001b[0m \u001b[0mpdist\u001b[0m\u001b[0;34m,\u001b[0m \u001b[0mmc\u001b[0m\u001b[0;34m,\u001b[0m \u001b[0mq\u001b[0m\u001b[0;34m,\u001b[0m \u001b[0mn0_P\u001b[0m\u001b[0;34m,\u001b[0m \u001b[0me0_P\u001b[0m\u001b[0;34m,\u001b[0m \u001b[0ml0_P\u001b[0m\u001b[0;34m,\u001b[0m \u001b[0mgamma0_P\u001b[0m\u001b[0;34m,\u001b[0m \u001b[0minc\u001b[0m\u001b[0;34m,\u001b[0m \u001b[0mpsi\u001b[0m\u001b[0;34m,\u001b[0m \u001b[0mtref_P\u001b[0m\u001b[0;34m,\u001b[0m \u001b[0mFp\u001b[0m\u001b[0;34m,\u001b[0m \u001b[0mFx\u001b[0m\u001b[0;34m,\u001b[0m \u001b[0mevol\u001b[0m\u001b[0;34m,\u001b[0m \u001b[0mwaveform_cal\u001b[0m\u001b[0;34m)\u001b[0m\u001b[0;34m\u001b[0m\u001b[0;34m\u001b[0m\u001b[0m\n\u001b[0m\u001b[1;32m     77\u001b[0m \u001b[0;34m\u001b[0m\u001b[0m\n\u001b[1;32m     78\u001b[0m \u001b[0;34m\u001b[0m\u001b[0m\n",
      "\u001b[0;32m~/nanograv_proj/enterprise_proj/pta_tutorial/waveform.py\u001b[0m in \u001b[0;36mcalculate_sp_sx\u001b[0;34m(toas, gwdist, mc, q, n0, e0, l0, gamma0, inc, psi, tref, Fp, Fx, evol, waveform_cal)\u001b[0m\n",
      "\u001b[0;32m~/anaconda3/envs/enterprise/lib/python3.6/site-packages/numpy/core/fromnumeric.py\u001b[0m in \u001b[0;36mamin\u001b[0;34m(a, axis, out, keepdims)\u001b[0m\n\u001b[1;32m   2418\u001b[0m \u001b[0;34m\u001b[0m\u001b[0m\n\u001b[1;32m   2419\u001b[0m     return _methods._amin(a, axis=axis,\n\u001b[0;32m-> 2420\u001b[0;31m                           out=out, **kwargs)\n\u001b[0m\u001b[1;32m   2421\u001b[0m \u001b[0;34m\u001b[0m\u001b[0m\n\u001b[1;32m   2422\u001b[0m \u001b[0;34m\u001b[0m\u001b[0m\n",
      "\u001b[0;32m~/anaconda3/envs/enterprise/lib/python3.6/site-packages/numpy/core/_methods.py\u001b[0m in \u001b[0;36m_amin\u001b[0;34m(a, axis, out, keepdims)\u001b[0m\n\u001b[1;32m     27\u001b[0m \u001b[0;34m\u001b[0m\u001b[0m\n\u001b[1;32m     28\u001b[0m \u001b[0;32mdef\u001b[0m \u001b[0m_amin\u001b[0m\u001b[0;34m(\u001b[0m\u001b[0ma\u001b[0m\u001b[0;34m,\u001b[0m \u001b[0maxis\u001b[0m\u001b[0;34m=\u001b[0m\u001b[0;32mNone\u001b[0m\u001b[0;34m,\u001b[0m \u001b[0mout\u001b[0m\u001b[0;34m=\u001b[0m\u001b[0;32mNone\u001b[0m\u001b[0;34m,\u001b[0m \u001b[0mkeepdims\u001b[0m\u001b[0;34m=\u001b[0m\u001b[0;32mFalse\u001b[0m\u001b[0;34m)\u001b[0m\u001b[0;34m:\u001b[0m\u001b[0;34m\u001b[0m\u001b[0;34m\u001b[0m\u001b[0m\n\u001b[0;32m---> 29\u001b[0;31m     \u001b[0;32mreturn\u001b[0m \u001b[0mumr_minimum\u001b[0m\u001b[0;34m(\u001b[0m\u001b[0ma\u001b[0m\u001b[0;34m,\u001b[0m \u001b[0maxis\u001b[0m\u001b[0;34m,\u001b[0m \u001b[0;32mNone\u001b[0m\u001b[0;34m,\u001b[0m \u001b[0mout\u001b[0m\u001b[0;34m,\u001b[0m \u001b[0mkeepdims\u001b[0m\u001b[0;34m)\u001b[0m\u001b[0;34m\u001b[0m\u001b[0;34m\u001b[0m\u001b[0m\n\u001b[0m\u001b[1;32m     30\u001b[0m \u001b[0;34m\u001b[0m\u001b[0m\n\u001b[1;32m     31\u001b[0m \u001b[0;32mdef\u001b[0m \u001b[0m_sum\u001b[0m\u001b[0;34m(\u001b[0m\u001b[0ma\u001b[0m\u001b[0;34m,\u001b[0m \u001b[0maxis\u001b[0m\u001b[0;34m=\u001b[0m\u001b[0;32mNone\u001b[0m\u001b[0;34m,\u001b[0m \u001b[0mdtype\u001b[0m\u001b[0;34m=\u001b[0m\u001b[0;32mNone\u001b[0m\u001b[0;34m,\u001b[0m \u001b[0mout\u001b[0m\u001b[0;34m=\u001b[0m\u001b[0;32mNone\u001b[0m\u001b[0;34m,\u001b[0m \u001b[0mkeepdims\u001b[0m\u001b[0;34m=\u001b[0m\u001b[0;32mFalse\u001b[0m\u001b[0;34m)\u001b[0m\u001b[0;34m:\u001b[0m\u001b[0;34m\u001b[0m\u001b[0;34m\u001b[0m\u001b[0m\n",
      "\u001b[0;31mKeyboardInterrupt\u001b[0m: "
     ]
    }
   ],
   "source": [
    "sampler.sample(xecc, N, SCAMweight=50, AMweight=50, DEweight=0)"
   ]
  }
 ],
 "metadata": {
  "kernelspec": {
   "display_name": "Python 3",
   "language": "python",
   "name": "python3"
  },
  "language_info": {
   "codemirror_mode": {
    "name": "ipython",
    "version": 3
   },
   "file_extension": ".py",
   "mimetype": "text/x-python",
   "name": "python",
   "nbconvert_exporter": "python",
   "pygments_lexer": "ipython3",
   "version": "3.6.13"
  }
 },
 "nbformat": 4,
 "nbformat_minor": 4
}
