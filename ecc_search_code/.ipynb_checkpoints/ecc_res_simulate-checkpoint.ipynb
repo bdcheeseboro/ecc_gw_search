{
 "cells": [
  {
   "cell_type": "markdown",
   "metadata": {},
   "source": [
    "## Signal Simulation using ecc_res"
   ]
  },
  {
   "cell_type": "markdown",
   "metadata": {},
   "source": [
    "#### This notebook is based on the `ecc_res_libstempo.ipynb` by Lankeswar Dey, lanky441@gmail.com. Current version 12/17/2021"
   ]
  },
  {
   "cell_type": "markdown",
   "metadata": {},
   "source": [
    "This notebook creates a simulated eccentric gravitational wave dataset using `ecc_res` and `libstempo`"
   ]
  },
  {
   "cell_type": "code",
   "execution_count": 1,
   "metadata": {},
   "outputs": [],
   "source": [
    "%matplotlib inline\n",
    "%config InlineBackend.figure_format = 'retina'"
   ]
  },
  {
   "cell_type": "code",
   "execution_count": 2,
   "metadata": {},
   "outputs": [
    {
     "name": "stderr",
     "output_type": "stream",
     "text": [
      "WARNING: AstropyDeprecationWarning: The private astropy._erfa module has been made into its own package, pyerfa, which is a dependency of astropy and can be imported directly using \"import erfa\" [astropy._erfa]\n"
     ]
    }
   ],
   "source": [
    "from __future__ import print_function\n",
    "import sys\n",
    "import glob\n",
    "import os\n",
    "import errno\n",
    "import pickle\n",
    "import numpy as np\n",
    "import libstempo as T\n",
    "import libstempo.plot as LP, libstempo.toasim as LT\n",
    "import ephem\n",
    "import ecc_res\n",
    "import json\n",
    "import scipy.constants as sc\n",
    "import subprocess\n",
    "import matplotlib.pyplot as plt\n",
    "from astropy.coordinates import SkyCoord\n",
    "from enterprise.pulsar import Pulsar\n",
    "\n",
    "from tempfile import mkstemp\n",
    "from shutil import move, copymode\n",
    "from os import fdopen, remove"
   ]
  },
  {
   "cell_type": "code",
   "execution_count": 3,
   "metadata": {},
   "outputs": [
    {
     "data": {
      "text/plain": [
       "'2.4.1'"
      ]
     },
     "execution_count": 3,
     "metadata": {},
     "output_type": "execute_result"
    }
   ],
   "source": [
    "T.__version__"
   ]
  },
  {
   "cell_type": "code",
   "execution_count": 4,
   "metadata": {},
   "outputs": [
    {
     "data": {
      "text/plain": [
       "StrictVersion ('2020.11.1')"
      ]
     },
     "execution_count": 4,
     "metadata": {},
     "output_type": "execute_result"
    }
   ],
   "source": [
    "T.libstempo.tempo2version()"
   ]
  },
  {
   "cell_type": "code",
   "execution_count": 5,
   "metadata": {},
   "outputs": [],
   "source": [
    "def get_h0(logmc, log_fgw, logdL):\n",
    "    '''Calculates the strain amplitude assuming e0=0'''\n",
    "    Msun = 2e30 #mass of sun in kg\n",
    "    Mc = 10**logmc*Msun #chirp mass in kg\n",
    "    fgw = 10**log_fgw #gravitational frequency in Hz\n",
    "    dL = 10**logdL*3.086e+16 #luminosity distance in meters\n",
    "    c = sc.speed_of_light\n",
    "    G = 6.67430e-11 #N⋅m2/kg2\n",
    "    h0 =  (2*(G*Mc/c**3)**(5/3)*(np.pi*fgw)**(2/3)*c)/dL\n",
    "    return h0"
   ]
  },
  {
   "cell_type": "code",
   "execution_count": 6,
   "metadata": {},
   "outputs": [],
   "source": [
    "def get_noise_from_pal2(noisefile):\n",
    "    psrname = noisefile.split('/')[-1].split('_noise.txt')[0]\n",
    "    fin = open(noisefile, 'r')\n",
    "    lines = fin.readlines()\n",
    "    params = {}\n",
    "    for line in lines:\n",
    "        ln = line.split()\n",
    "        if 'efac' in line:\n",
    "            par = 'efac'\n",
    "            flag = ln[0].split('efac-')[-1]\n",
    "        elif 'equad' in line:\n",
    "            par = 'log10_equad'\n",
    "            flag = ln[0].split('equad-')[-1]\n",
    "        elif 'jitter_q' in line:\n",
    "            par = 'log10_ecorr'\n",
    "            flag = ln[0].split('jitter_q-')[-1]\n",
    "        elif 'RN-Amplitude' in line:\n",
    "            par = 'red_noise_log10_A'\n",
    "            flag = ''\n",
    "        elif 'RN-spectral-index' in line:\n",
    "            par = 'red_noise_gamma'\n",
    "            flag = ''\n",
    "        else:\n",
    "            break\n",
    "        if flag:\n",
    "            name = [psrname, flag, par]\n",
    "        else:\n",
    "            name = [psrname, par]\n",
    "        pname = '_'.join(name)\n",
    "        params.update({pname: float(ln[1])})\n",
    "    return params"
   ]
  },
  {
   "cell_type": "code",
   "execution_count": 7,
   "metadata": {},
   "outputs": [],
   "source": [
    "def call(cmd):\n",
    "    subprocess.call(cmd,shell=True)\n",
    "def fit_cmd(parpath,timpath,newpar=True):\n",
    "    if newpar:\n",
    "        newpar = '-newpar'        \n",
    "    cmd = 'tempo2 {0} -f {1} {2}'.format(newpar,parpath,timpath)\n",
    "    call(cmd)\n",
    "def fit_psr_t2(psr,partim_dir):\n",
    "    parpath = partim_dir + psr + '.par'\n",
    "    timpath = partim_dir + psr + '.tim'\n",
    "    fit_cmd(parpath,timpath)\n",
    "    newpath = './new.par'\n",
    "    fit_cmd(newpath,timpath)\n",
    "    fit_cmd(newpath,timpath)\n",
    "    call('mv {0} {1}/{2}.par'.format(newpath, partim_dir,psr))"
   ]
  },
  {
   "cell_type": "code",
   "execution_count": 5,
   "metadata": {},
   "outputs": [],
   "source": [
    "#Specify the data directory path that contains the parfiles and timfiles\n",
    "datadir = '/home/bcheeseboro/nanograv_proj/enterprise_proj/NANOGrav_12yv4/narrowband/'\n",
    "noisepath = '/home/bcheeseboro/nanograv_proj/enterprise_proj/'"
   ]
  },
  {
   "cell_type": "code",
   "execution_count": 9,
   "metadata": {},
   "outputs": [],
   "source": [
    "#Grab all par files and tim files\n",
    "#parfiles = sorted(glob.glob(datadir + 'alternate/NoRedNoisePars/par/*.par'))\n",
    "parfiles = sorted(glob.glob(datadir + 'par/*.par'))\n",
    "\n",
    "timfiles = sorted(glob.glob(datadir + 'tim/*.tim'))"
   ]
  },
  {
   "cell_type": "code",
   "execution_count": 12,
   "metadata": {},
   "outputs": [],
   "source": [
    "#Grab noise files\n",
    "\n",
    "#Can load in .txt files\n",
    "#noisefiles = sorted(glob.glob(noisepath+'/*.txt'))\n",
    "#noise_params = {}\n",
    "#for nf in noisefiles:\n",
    "#    noise_params.update(get_noise_from_pal2(nf))\n",
    "\n",
    "#Or load in using the .json file\n",
    "with open(noisepath+'channelized_12p5yr_v3_full_noisedict.json') as nf:\n",
    "    noise_params = json.load(nf)"
   ]
  },
  {
   "cell_type": "code",
   "execution_count": 10,
   "metadata": {},
   "outputs": [
    {
     "data": {
      "text/plain": [
       "'B1855+09'"
      ]
     },
     "execution_count": 10,
     "metadata": {},
     "output_type": "execute_result"
    }
   ],
   "source": [
    "#Create list of pulsars that will be used for the injection\n",
    "psrlist = [x.split('/')[-1].split('_')[0] for x in parfiles][0]\n",
    "psrlist"
   ]
  },
  {
   "cell_type": "code",
   "execution_count": 6,
   "metadata": {},
   "outputs": [],
   "source": [
    "par = datadir + 'par/J1713+0747_NANOGrav_12yv4.gls.par'\n",
    "tim = datadir + 'tim/J1713+0747_NANOGrav_12yv4.tim'\n",
    "psr = T.tempopulsar(parfile = par, timfile = tim, maxobs=100000)\n",
    "psrs = []\n",
    "psrs.append(psr)"
   ]
  },
  {
   "cell_type": "code",
   "execution_count": 11,
   "metadata": {},
   "outputs": [
    {
     "ename": "NameError",
     "evalue": "name 'psrlist' is not defined",
     "output_type": "error",
     "traceback": [
      "\u001b[0;31m---------------------------------------------------------------------------\u001b[0m",
      "\u001b[0;31mNameError\u001b[0m                                 Traceback (most recent call last)",
      "\u001b[0;32m<ipython-input-11-475ad03a491d>\u001b[0m in \u001b[0;36m<module>\u001b[0;34m\u001b[0m\n\u001b[1;32m      3\u001b[0m \u001b[0;31m#with open(datadir+'channelized_12yr_v3_partim_py3.pkl','rb') as f:\u001b[0m\u001b[0;34m\u001b[0m\u001b[0;34m\u001b[0m\u001b[0;34m\u001b[0m\u001b[0m\n\u001b[1;32m      4\u001b[0m \u001b[0;31m#    psrs = pickle.load(f)\u001b[0m\u001b[0;34m\u001b[0m\u001b[0;34m\u001b[0m\u001b[0;34m\u001b[0m\u001b[0m\n\u001b[0;32m----> 5\u001b[0;31m \u001b[0;32mfor\u001b[0m \u001b[0mpar\u001b[0m\u001b[0;34m,\u001b[0m \u001b[0mtim\u001b[0m\u001b[0;34m,\u001b[0m \u001b[0mps\u001b[0m \u001b[0;32min\u001b[0m \u001b[0mzip\u001b[0m\u001b[0;34m(\u001b[0m\u001b[0mparfiles\u001b[0m\u001b[0;34m,\u001b[0m \u001b[0mtimfiles\u001b[0m\u001b[0;34m,\u001b[0m \u001b[0mpsrlist\u001b[0m\u001b[0;34m)\u001b[0m\u001b[0;34m:\u001b[0m \u001b[0;31m#specified 10 for now but this can be changed later\u001b[0m\u001b[0;34m\u001b[0m\u001b[0;34m\u001b[0m\u001b[0m\n\u001b[0m\u001b[1;32m      6\u001b[0m     \u001b[0;32mif\u001b[0m \u001b[0mps\u001b[0m \u001b[0;32min\u001b[0m \u001b[0mpsrlist\u001b[0m\u001b[0;34m:\u001b[0m\u001b[0;34m\u001b[0m\u001b[0;34m\u001b[0m\u001b[0m\n\u001b[1;32m      7\u001b[0m         \u001b[0mpsr\u001b[0m \u001b[0;34m=\u001b[0m \u001b[0mT\u001b[0m\u001b[0;34m.\u001b[0m\u001b[0mtempopulsar\u001b[0m\u001b[0;34m(\u001b[0m\u001b[0mparfile\u001b[0m \u001b[0;34m=\u001b[0m \u001b[0mpar\u001b[0m\u001b[0;34m,\u001b[0m \u001b[0mtimfile\u001b[0m \u001b[0;34m=\u001b[0m \u001b[0mtim\u001b[0m\u001b[0;34m,\u001b[0m \u001b[0mmaxobs\u001b[0m\u001b[0;34m=\u001b[0m\u001b[0;36m100000\u001b[0m\u001b[0;34m)\u001b[0m\u001b[0;34m\u001b[0m\u001b[0;34m\u001b[0m\u001b[0m\n",
      "\u001b[0;31mNameError\u001b[0m: name 'psrlist' is not defined"
     ]
    }
   ],
   "source": [
    "#Create a list of tempo pulsar objects\n",
    "psrs = []\n",
    "\n",
    "#Can load pulsars in using a pickle file\n",
    "#with open(datadir+'channelized_12yr_v3_partim_py3.pkl','rb') as f:\n",
    "#    psrs = pickle.load(f)\n",
    "\n",
    "#Or load in each pulsar's tim and par file\n",
    "for par, tim, ps in zip(parfiles, timfiles, psrlist):\n",
    "    if ps in psrlist:\n",
    "        psr = T.tempopulsar(parfile = par, timfile = tim, maxobs=100000)\n",
    "        psrs.append(psr)"
   ]
  },
  {
   "cell_type": "code",
   "execution_count": 8,
   "metadata": {},
   "outputs": [],
   "source": [
    "#Load in the known pulsar distances\n",
    "with open('/home/bcheeseboro/nanograv_proj/enterprise_proj/ecc_signal_create/ecc_sim_code/pulsar_distances.json', 'r') as pdist_file:\n",
    "    pdist_dict = json.load(pdist_file)"
   ]
  },
  {
   "cell_type": "code",
   "execution_count": 9,
   "metadata": {},
   "outputs": [],
   "source": [
    "#Now parse this large dictionary so that we can call noise parameters as noise_dict[pulsar name][noise type]\n",
    "#Returns either floats or 2 column arrays of flags and values.\n",
    "noise_dict = {}\n",
    "for psr in psrs:\n",
    "    noise_dict[psr.name]={}\n",
    "    noise_dict[psr.name]['equads'] = []\n",
    "    noise_dict[psr.name]['efacs'] = []\n",
    "    noise_dict[psr.name]['ecorrs'] = []\n",
    "    for ky in list(noise_params.keys()):\n",
    "        if psr.name in ky:\n",
    "            if 'equad' in ky:\n",
    "                noise_dict[psr.name]['equads'].append([ky.replace(psr.name + '_' , ''), noise_params[ky]])\n",
    "            if 'efac' in ky:\n",
    "                noise_dict[psr.name]['efacs'].append([ky.replace(psr.name + '_' , ''), noise_params[ky]])\n",
    "            if 'ecorr' in ky:\n",
    "                noise_dict[psr.name]['ecorrs'].append([ky.replace(psr.name + '_' , ''), noise_params[ky]])\n",
    "            if 'gamma' in ky:\n",
    "                noise_dict[psr.name]['RN_gamma'] = noise_params[ky]\n",
    "            if 'log10_A' in ky:\n",
    "                noise_dict[psr.name]['RN_Amp'] = 10**noise_params[ky]\n",
    "                \n",
    "    noise_dict[psr.name]['equads'] = np.array(noise_dict[psr.name]['equads'])\n",
    "    noise_dict[psr.name]['efacs'] = np.array(noise_dict[psr.name]['efacs'])\n",
    "    noise_dict[psr.name]['ecorrs'] = np.array(noise_dict[psr.name]['ecorrs'])    \n",
    "    \n",
    "    if len(noise_dict[psr.name]['ecorrs'])==0: #Easier to just delete these dictionary items if no ECORR values. \n",
    "        noise_dict[psr.name].__delitem__('ecorrs')  "
   ]
  },
  {
   "cell_type": "code",
   "execution_count": 16,
   "metadata": {},
   "outputs": [
    {
     "data": {
      "text/plain": [
       "<SkyCoord (ICRS): (ra, dec) in deg\n",
       "    (35.79754667, 42.99205139)>"
      ]
     },
     "execution_count": 16,
     "metadata": {},
     "output_type": "execute_result"
    }
   ],
   "source": [
    "#Convert RA and DEC to deg\n",
    "c = SkyCoord('02h23m11.4112', '+42d59m31.385s')\n",
    "c"
   ]
  },
  {
   "cell_type": "code",
   "execution_count": 10,
   "metadata": {},
   "outputs": [],
   "source": [
    "#signal injection parameters\n",
    "#gw postion\n",
    "gwphi = 5.01\n",
    "gwtheta = 1.91\n",
    "log10_dist = 7.5\n",
    "\n",
    "#orbital parameters\n",
    "q = 0.6\n",
    "\n",
    "log10_mc = 9.5\n",
    "#P0 = 1.05*86400*365.25\n",
    "log10_forb = -8.5\n",
    "e0 = 0.1\n",
    "l0 = 0\n",
    "gamma0 = 0\n",
    "inc = np.pi/3\n",
    "psi = 0"
   ]
  },
  {
   "cell_type": "code",
   "execution_count": 11,
   "metadata": {},
   "outputs": [],
   "source": [
    "#Designate an output directory for the simulated data files\n",
    "outdir = '/home/bcheeseboro/nanograv_proj/enterprise_proj/ecc_signal_create/ecc_sim_data/12p5_simulated/all_pulsars/logmc_9.5/source1/'"
   ]
  },
  {
   "cell_type": "code",
   "execution_count": 12,
   "metadata": {},
   "outputs": [],
   "source": [
    "#creates the output directory if it does not already exist\n",
    "if not os.path.exists(os.path.dirname(outdir)):\n",
    "    try:\n",
    "        os.makedirs(os.path.dirname(outdir))\n",
    "    except OSError as exc: # Guard against race condition\n",
    "        if exc.errno != errno.EEXIST:\n",
    "            raise"
   ]
  },
  {
   "cell_type": "code",
   "execution_count": 13,
   "metadata": {},
   "outputs": [],
   "source": [
    "#set seed values for the rng\n",
    "seed_efac = 1234\n",
    "seed_equad = 5678\n",
    "seed_jitter = 9101\n",
    "seed_red = 1121"
   ]
  },
  {
   "cell_type": "code",
   "execution_count": 14,
   "metadata": {},
   "outputs": [],
   "source": [
    "#Get the last TOA in the dataset\n",
    "tmin = [p.toas().min() for p in psrs]\n",
    "tmax = [p.toas().max() for p in psrs]\n",
    "tref = max(tmax)"
   ]
  },
  {
   "cell_type": "code",
   "execution_count": 17,
   "metadata": {},
   "outputs": [],
   "source": [
    "for i, psr in enumerate(psrs):\n",
    "\n",
    "    #set all TOAs to zero\n",
    "    psr.stoas[:] -= psr.residuals() / 86400.0\n",
    "    # add efacs\n",
    "    if len(noise_dict[psr.name]['efacs']) > 0:\n",
    "        LT.add_efac(psr, efac = noise_dict[psr.name]['efacs'][:,1], \n",
    "                    flagid = 'f', flags = noise_dict[psr.name]['efacs'][:,0], \n",
    "                    seed = seed_efac + np.random.randint(len(psrs)))\n",
    "\n",
    "        ## add equads\n",
    "        LT.add_equad(psr, equad = noise_dict[psr.name]['equads'][:,1], \n",
    "                     flagid = 'f', flags = noise_dict[psr.name]['equads'][:,0], \n",
    "                     seed = seed_equad + np.random.randint(len(psrs)))\n",
    "\n",
    "        ## add jitter\n",
    "        try: #Only NANOGrav Pulsars have ECORR\n",
    "            LT.add_jitter(psr, ecorr = noise_dict[psr.name]['ecorrs'][:,1], \n",
    "                          flagid='f', flags = noise_dict[psr.name]['ecorrs'][:,0], \n",
    "                          coarsegrain = 1.0/86400.0, seed=seed_jitter + np.random.randint(len(psrs)))\n",
    "        except KeyError:\n",
    "            pass\n",
    "\n",
    "        ## add red noise\n",
    "        LT.add_rednoise(psr, noise_dict[psr.name]['RN_Amp'], noise_dict[psr.name]['RN_gamma'], \n",
    "                        components = 30, seed = seed_red + np.random.randint(len(psrs)))\n",
    "    \n",
    "    #convert pulsar sky location to proper frame\n",
    "    fac = 180./np.pi\n",
    "    coords = ephem.Equatorial(ephem.Ecliptic(str(psr['ELONG'].val*fac), \n",
    "                                                 str(psr['ELAT'].val*fac)))\n",
    "    ptheta = np.pi/2 - float(repr(coords.dec))\n",
    "    pphi = float(repr(coords.ra))\n",
    "    \n",
    "    #Inject signal into set of pulsars\n",
    "    toas = psr.toas()*86400 #toas in sec\n",
    "    if psr in pdist_dict.keys():\n",
    "         pdist = pdist_dict[psr][0] #distance of pulsar in kpc\n",
    "    else:\n",
    "        pdist = 1\n",
    "    \n",
    "    #Calculate ecc residual\n",
    "    residuals = ecc_res.add_ecc_cgw(toas, ptheta, pphi, pdist, gwtheta, gwphi, log10_mc, q, log10_forb, e0, l0, gamma0, \n",
    "                    inc, psi, log10_dist, pphase = None, gamma_P = None, tref = tref, #tref >= last TOA MJd value\n",
    "                    psrterm = True, evol = True, waveform_cal = True, res = 'Both')\n",
    "    psr.stoas[:] += (residuals)/86400 #converting to days\n",
    "    \n",
    "    psr.savepar(outdir + psr.name + '_simulate.par') #saves the simulated par file w/ ecc signal\n",
    "    psr.savetim(outdir + psr.name + '_simulate.tim') #saves the simulated tim file w/ ecc signal"
   ]
  },
  {
   "cell_type": "code",
   "execution_count": 16,
   "metadata": {},
   "outputs": [],
   "source": [
    "filename = outdir + 'ideal_pulsars_ecc_search.pkl'\n",
    "with open(filename, \"rb\") as f:\n",
    "        psrs_new = pickle.load(f)"
   ]
  },
  {
   "cell_type": "code",
   "execution_count": 19,
   "metadata": {},
   "outputs": [
    {
     "data": {
      "text/plain": [
       "'/home/bcheeseboro/nanograv_proj/enterprise_proj/ecc_signal_create/ecc_sim_data/12p5_simulated/all_pulsars/logmc_9.5/source1/J1713+0747_simulate.par'"
      ]
     },
     "execution_count": 19,
     "metadata": {},
     "output_type": "execute_result"
    }
   ],
   "source": [
    "#for psr in psrs:\n",
    "fd, abs_path = mkstemp()\n",
    "with fdopen(fd,'w') as new_file:\n",
    "    with open(outdir+psr.name+'_simulate.par','r') as old_file:\n",
    "        # read content from first file\n",
    "        for line in old_file:\n",
    "            line_split = line.split(' ')\n",
    "            if 'DMX_' in line_split[0]:\n",
    "                if len(line_split) == 16:\n",
    "                    line_split[10] = str(0)\n",
    "                    new_line = \" \".join(line_split)\n",
    "                    new_file.write(new_line)\n",
    "                if len(line_split) == 15:\n",
    "                    line_split[9] = str(0)\n",
    "                    new_line = \" \".join(line_split)\n",
    "                    new_file.write(new_line)\n",
    "                else:\n",
    "                    line_split[8] = str(0)\n",
    "                    new_line = \" \".join(line_split)\n",
    "                    new_file.write(new_line)\n",
    "            else:\n",
    "                new_file.write(line)\n",
    "#Copy the file permissions from the old file to the new file\n",
    "copymode(outdir+psr.name+'_simulate.par', abs_path)\n",
    "\n",
    "#Remove original file\n",
    "remove(outdir+psr.name+'_simulate.par')\n",
    "\n",
    "#Move new file\n",
    "move(abs_path, outdir+psr.name+'_simulate.par')"
   ]
  },
  {
   "cell_type": "code",
   "execution_count": 20,
   "metadata": {},
   "outputs": [],
   "source": [
    "#Refit all pars in simulated parfiles\n",
    "for psr in psrs:\n",
    "    fit_psr_t2(psr.name+'_simulate' ,outdir)"
   ]
  },
  {
   "cell_type": "code",
   "execution_count": 5,
   "metadata": {},
   "outputs": [],
   "source": [
    "inj_params = {'gwphi': gwphi, 'gwtheta': gwtheta, 'log10_dist': log10_dist, 'q': q, 'log10_mc': log10_mc, 'log10_forb': log10_forb, 'e0': e0, 'l0': l0, 'gamma0': gamma0, 'inc': inc, 'psi': psi}"
   ]
  },
  {
   "cell_type": "code",
   "execution_count": 6,
   "metadata": {},
   "outputs": [],
   "source": [
    "#save injection parameters as a dictionary\n",
    "ecc_dict_dump = json.dumps(inj_params)\n",
    "f = open(outdir+\"ecc_inj_params.json\",\"w\")\n",
    "f.write(ecc_dict_dump)\n",
    "f.close()"
   ]
  },
  {
   "cell_type": "code",
   "execution_count": 3,
   "metadata": {},
   "outputs": [
    {
     "name": "stdout",
     "output_type": "stream",
     "text": [
      "Loading pulsar from parfile /home/bcheeseboro/nanograv_proj/enterprise_proj/ecc_signal_create/ecc_sim_data/12p5_simulated/logmc_9.5/source1/B1855+09_simulate.par\n",
      "Loading pulsar from parfile /home/bcheeseboro/nanograv_proj/enterprise_proj/ecc_signal_create/ecc_sim_data/12p5_simulated/logmc_9.5/source1/J0030+0451_simulate.par\n",
      "Loading pulsar from parfile /home/bcheeseboro/nanograv_proj/enterprise_proj/ecc_signal_create/ecc_sim_data/12p5_simulated/logmc_9.5/source1/J0613-0200_simulate.par\n",
      "Loading pulsar from parfile /home/bcheeseboro/nanograv_proj/enterprise_proj/ecc_signal_create/ecc_sim_data/12p5_simulated/logmc_9.5/source1/J1012+5307_simulate.par\n",
      "Loading pulsar from parfile /home/bcheeseboro/nanograv_proj/enterprise_proj/ecc_signal_create/ecc_sim_data/12p5_simulated/logmc_9.5/source1/J1024-0719_simulate.par\n",
      "Loading pulsar from parfile /home/bcheeseboro/nanograv_proj/enterprise_proj/ecc_signal_create/ecc_sim_data/12p5_simulated/logmc_9.5/source1/J1455-3330_simulate.par\n",
      "Loading pulsar from parfile /home/bcheeseboro/nanograv_proj/enterprise_proj/ecc_signal_create/ecc_sim_data/12p5_simulated/logmc_9.5/source1/J1600-3053_simulate.par\n",
      "Loading pulsar from parfile /home/bcheeseboro/nanograv_proj/enterprise_proj/ecc_signal_create/ecc_sim_data/12p5_simulated/logmc_9.5/source1/J1640+2224_simulate.par\n",
      "Loading pulsar from parfile /home/bcheeseboro/nanograv_proj/enterprise_proj/ecc_signal_create/ecc_sim_data/12p5_simulated/logmc_9.5/source1/J1910+1256_simulate.par\n",
      "Loading pulsar from parfile /home/bcheeseboro/nanograv_proj/enterprise_proj/ecc_signal_create/ecc_sim_data/12p5_simulated/logmc_9.5/source1/J1918-0642_simulate.par\n"
     ]
    }
   ],
   "source": [
    "#Creates pickle file for simulated data\n",
    "PSRS = []\n",
    "parfiles = sorted(glob.glob(outdir+'/*.par'))\n",
    "timfiles = sorted(glob.glob(outdir+'/*.tim'))\n",
    "for p, t in zip(parfiles, timfiles):\n",
    "    print('Loading pulsar from parfile {0}'.format(p))\n",
    "    PSRS.append(Pulsar(p, t))\n",
    "pickle.dump(psrs, open(outdir+'ideal_pulsars_ecc_search.pkl', 'wb'))"
   ]
  }
 ],
 "metadata": {
  "kernelspec": {
   "display_name": "Python 3",
   "language": "python",
   "name": "python3"
  },
  "language_info": {
   "codemirror_mode": {
    "name": "ipython",
    "version": 3
   },
   "file_extension": ".py",
   "mimetype": "text/x-python",
   "name": "python",
   "nbconvert_exporter": "python",
   "pygments_lexer": "ipython3",
   "version": "3.6.13"
  }
 },
 "nbformat": 4,
 "nbformat_minor": 4
}
